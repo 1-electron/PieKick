{
 "cells": [
  {
   "cell_type": "code",
   "execution_count": 2,
   "metadata": {},
   "outputs": [],
   "source": [
    "import torch\n",
    "import torch.nn as nn\n",
    "import torch.nn.functional as F\n",
    "import torch.optim as optim\n",
    "from torchvision import datasets, transforms\n",
    "from torch.optim.lr_scheduler import StepLR\n",
    "import numpy as np\n",
    "import torchvision\n",
    "from kick import kick"
   ]
  },
  {
   "cell_type": "code",
   "execution_count": 3,
   "metadata": {},
   "outputs": [],
   "source": [
    "hostname=\"3.208.94.164\"\n",
    "username=\"ubuntu\"\n",
    "key_filename=\"test.pem\""
   ]
  },
  {
   "cell_type": "code",
   "execution_count": 4,
   "metadata": {},
   "outputs": [],
   "source": [
    "class Net(nn.Module):\n",
    "    def __init__(self):\n",
    "        super(Net, self).__init__()\n",
    "        self.conv1 = nn.Conv2d(in_channels=1, out_channels=32, kernel_size=3, stride=1)  # no padding so we lose 2 pixels\n",
    "        self.conv2 = nn.Conv2d(in_channels=32, out_channels=64, kernel_size=3, stride=1)  # no padding so we lose 2 pixels\n",
    "        self.dropout1 = nn.Dropout2d(p=0.25)\n",
    "        self.dropout2 = nn.Dropout2d(p=0.5)\n",
    "        self.fc1 = nn.Linear(in_features=64*12*12, out_features=128)\n",
    "        self.fc2 = nn.Linear(in_features=128, out_features=10)\n",
    "\n",
    "    def forward(self, x):\n",
    "        x = self.conv1(x)\n",
    "        x = F.relu(x)\n",
    "        x = self.conv2(x)\n",
    "        x = F.max_pool2d(x, kernel_size=2)\n",
    "        x = self.dropout1(x)\n",
    "        x = torch.flatten(x, 1)\n",
    "        x = self.fc1(x)\n",
    "        x = F.relu(x)\n",
    "        x = self.dropout2(x)\n",
    "        x = self.fc2(x)\n",
    "        output = F.log_softmax(x, dim=1)\n",
    "        return output"
   ]
  },
  {
   "cell_type": "code",
   "execution_count": 5,
   "metadata": {},
   "outputs": [],
   "source": [
    "model = Net()\n",
    "optimizer = optim.Adadelta(model.parameters(), lr=1e-3)"
   ]
  },
  {
   "cell_type": "code",
   "execution_count": 6,
   "metadata": {},
   "outputs": [],
   "source": [
    "train_loader = torch.utils.data.DataLoader(datasets.MNIST('data', train=False, download=True, transform=transforms.Compose([transforms.ToTensor(), transforms.Normalize((0.1307,), (0.3081,))])), batch_size=10, shuffle=True)\n",
    "dataiter = iter(train_loader)"
   ]
  },
  {
   "cell_type": "code",
   "execution_count": 7,
   "metadata": {},
   "outputs": [
    {
     "name": "stdout",
     "output_type": "stream",
     "text": [
      "initialize\n"
     ]
    }
   ],
   "source": [
    "@kick\n",
    "def run():\n",
    "    for batch_idx, (X, y) in enumerate(train_loader):\n",
    "        optimizer.zero_grad()\n",
    "        output = model(X)\n",
    "        loss = F.nll_loss(output, y)\n",
    "        loss.backward()\n",
    "        optimizer.step()\n",
    "        if batch_idx % 10 == 0:\n",
    "            print(loss.item())"
   ]
  },
  {
   "cell_type": "code",
   "execution_count": 8,
   "metadata": {},
   "outputs": [
    {
     "name": "stderr",
     "output_type": "stream",
     "text": [
      "/Users/vincent1/anaconda3/lib/python3.6/site-packages/paramiko/kex_ecdh_nist.py:39: CryptographyDeprecationWarning: encode_point has been deprecated on EllipticCurvePublicNumbers and will be removed in a future version. Please use EllipticCurvePublicKey.public_bytes to obtain both compressed and uncompressed point encoding.\n",
      "  m.add_string(self.Q_C.public_numbers().encode_point())\n",
      "/Users/vincent1/anaconda3/lib/python3.6/site-packages/paramiko/kex_ecdh_nist.py:96: CryptographyDeprecationWarning: Support for unsafe construction of public numbers from encoded data will be removed in a future version. Please use EllipticCurvePublicKey.from_encoded_point\n",
      "  self.curve, Q_S_bytes\n",
      "/Users/vincent1/anaconda3/lib/python3.6/site-packages/paramiko/kex_ecdh_nist.py:111: CryptographyDeprecationWarning: encode_point has been deprecated on EllipticCurvePublicNumbers and will be removed in a future version. Please use EllipticCurvePublicKey.public_bytes to obtain both compressed and uncompressed point encoding.\n",
      "  hm.add_string(self.Q_C.public_numbers().encode_point())\n"
     ]
    },
    {
     "name": "stdout",
     "output_type": "stream",
     "text": [
      ">>  numpy found\n",
      ">>  torchvision found\n",
      ">>  torch.nn found\n",
      ">>  torch.nn.functional found\n",
      ">>  torch.optim found\n",
      ">>  torch found\n",
      "b'2.330904483795166'\n",
      "b'2.272294521331787'\n",
      "b'2.3357152938842773'\n",
      "b'2.352938175201416'\n",
      "b'2.264101028442383'\n",
      "b'2.287637710571289'\n",
      "b'2.322965621948242'\n",
      "b'2.256979465484619'\n",
      "b'2.280627727508545'\n",
      "b'2.285517930984497'\n",
      "b'2.307158946990967'\n",
      "b'2.261197805404663'\n",
      "b'2.3092925548553467'\n",
      "b'2.277893304824829'\n",
      "b'2.2759878635406494'\n",
      "b'2.2524821758270264'\n",
      "b'2.273857593536377'\n",
      "b'2.273594379425049'\n",
      "b'2.2269222736358643'\n",
      "b'2.2590749263763428'\n",
      "b'2.2039763927459717'\n",
      "b'2.254167079925537'\n",
      "b'2.213716745376587'\n",
      "b'2.277801036834717'\n",
      "b'2.179107189178467'\n",
      "b'2.2650246620178223'\n",
      "b'2.265340566635132'\n",
      "b'2.263394832611084'\n",
      "b'2.2356348037719727'\n",
      "b'2.2690932750701904'\n",
      "b'2.2538018226623535'\n",
      "b'2.1532726287841797'\n",
      "b'2.2077231407165527'\n",
      "b'2.2923505306243896'\n",
      "b'2.20086932182312'\n",
      "b'2.268246650695801'\n",
      "b'2.1929287910461426'\n",
      "b'2.265939712524414'\n",
      "b'2.1872403621673584'\n",
      "b'2.250657320022583'\n",
      "b'2.2284340858459473'\n",
      "b'2.31240177154541'\n",
      "b'2.210318088531494'\n",
      "b'2.225343704223633'\n",
      "b'2.2725608348846436'\n",
      "b'2.156892776489258'\n",
      "b'2.2145047187805176'\n",
      "b'2.2120299339294434'\n",
      "b'2.183781147003174'\n",
      "b'2.1534886360168457'\n",
      "b'2.1368870735168457'\n",
      "b'2.2032806873321533'\n",
      "b'2.111071825027466'\n",
      "b'2.1429049968719482'\n",
      "b'2.103632688522339'\n",
      "b'2.184026002883911'\n",
      "b'2.200139045715332'\n",
      "b'2.1967978477478027'\n",
      "b'2.1189162731170654'\n",
      "b'2.181091785430908'\n",
      "b'2.1523194313049316'\n",
      "b'2.1600303649902344'\n",
      "b'2.222797393798828'\n",
      "b'2.1808254718780518'\n",
      "b'2.1380515098571777'\n",
      "b'2.2202608585357666'\n",
      "b'2.136253833770752'\n",
      "b'2.165203094482422'\n",
      "b'2.073547840118408'\n",
      "b'2.0422186851501465'\n",
      "b'2.124332904815674'\n",
      "b'2.092496156692505'\n",
      "b'2.1094374656677246'\n",
      "b'2.1466684341430664'\n",
      "b'2.0763678550720215'\n",
      "b'2.1957852840423584'\n",
      "b'2.130464792251587'\n",
      "b'2.0916364192962646'\n",
      "b'2.087036609649658'\n",
      "b'2.1406309604644775'\n",
      "b'2.0857653617858887'\n",
      "b'2.1991660594940186'\n",
      "b'2.1122195720672607'\n",
      "b'2.1032795906066895'\n",
      "b'2.1306614875793457'\n",
      "b'2.048874855041504'\n",
      "b'2.177826404571533'\n",
      "b'1.9778238534927368'\n",
      "b'2.1438212394714355'\n",
      "b'2.0061380863189697'\n",
      "b'2.1460676193237305'\n",
      "b'2.0194077491760254'\n",
      "b'1.9721050262451172'\n",
      "b'1.9566211700439453'\n",
      "b'2.0125539302825928'\n",
      "b'2.164501905441284'\n",
      "b'2.0469701290130615'\n",
      "b'2.0621161460876465'\n",
      "b'1.9691451787948608'\n",
      "b'2.0223114490509033'\n",
      "b'None'\n"
     ]
    }
   ],
   "source": [
    "run()"
   ]
  },
  {
   "cell_type": "code",
   "execution_count": null,
   "metadata": {},
   "outputs": [],
   "source": []
  }
 ],
 "metadata": {
  "kernelspec": {
   "display_name": "Python 3",
   "language": "python",
   "name": "python3"
  },
  "language_info": {
   "codemirror_mode": {
    "name": "ipython",
    "version": 3
   },
   "file_extension": ".py",
   "mimetype": "text/x-python",
   "name": "python",
   "nbconvert_exporter": "python",
   "pygments_lexer": "ipython3",
   "version": "3.6.8"
  }
 },
 "nbformat": 4,
 "nbformat_minor": 2
}
