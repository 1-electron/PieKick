{
 "cells": [
  {
   "cell_type": "code",
   "execution_count": 1,
   "metadata": {},
   "outputs": [],
   "source": [
    "import torch\n",
    "import torch.nn as nn\n",
    "import torch.nn.functional as F\n",
    "import torch.optim as optim\n",
    "from torchvision import datasets, transforms\n",
    "from torch.optim.lr_scheduler import StepLR\n",
    "import numpy as np\n",
    "import torchvision\n",
    "from kick import kick"
   ]
  },
  {
   "cell_type": "code",
   "execution_count": 2,
   "metadata": {},
   "outputs": [],
   "source": [
    "hostname=\"3.235.3.53\"\n",
    "username=\"ubuntu\"\n",
    "key_filename=\"test.pem\""
   ]
  },
  {
   "cell_type": "code",
   "execution_count": 3,
   "metadata": {},
   "outputs": [],
   "source": [
    "class Net(nn.Module):\n",
    "    def __init__(self):\n",
    "        super(Net, self).__init__()\n",
    "        self.conv1 = nn.Conv2d(in_channels=1, out_channels=32, kernel_size=3, stride=1)  # no padding so we lose 2 pixels\n",
    "        self.conv2 = nn.Conv2d(in_channels=32, out_channels=64, kernel_size=3, stride=1)  # no padding so we lose 2 pixels\n",
    "        self.dropout1 = nn.Dropout2d(p=0.25)\n",
    "        self.dropout2 = nn.Dropout2d(p=0.5)\n",
    "        self.fc1 = nn.Linear(in_features=64*12*12, out_features=128)\n",
    "        self.fc2 = nn.Linear(in_features=128, out_features=10)\n",
    "\n",
    "    def forward(self, x):\n",
    "        x = self.conv1(x)\n",
    "        x = F.relu(x)\n",
    "        x = self.conv2(x)\n",
    "        x = F.max_pool2d(x, kernel_size=2)\n",
    "        x = self.dropout1(x)\n",
    "        x = torch.flatten(x, 1)\n",
    "        x = self.fc1(x)\n",
    "        x = F.relu(x)\n",
    "        x = self.dropout2(x)\n",
    "        x = self.fc2(x)\n",
    "        output = F.log_softmax(x, dim=1)\n",
    "        return output"
   ]
  },
  {
   "cell_type": "code",
   "execution_count": 4,
   "metadata": {},
   "outputs": [],
   "source": [
    "model = Net()\n",
    "optimizer = optim.Adadelta(model.parameters(), lr=1e-3)"
   ]
  },
  {
   "cell_type": "code",
   "execution_count": 5,
   "metadata": {},
   "outputs": [],
   "source": [
    "train_loader = torch.utils.data.DataLoader(datasets.MNIST('data', train=False, download=True, transform=transforms.Compose([transforms.ToTensor(), transforms.Normalize((0.1307,), (0.3081,))])), batch_size=10, shuffle=True)\n",
    "dataiter = iter(train_loader)"
   ]
  },
  {
   "cell_type": "code",
   "execution_count": 9,
   "metadata": {},
   "outputs": [
    {
     "name": "stdout",
     "output_type": "stream",
     "text": [
      "initialize\n"
     ]
    }
   ],
   "source": [
    "@kick\n",
    "def run():\n",
    "    for batch_idx, (X, y) in enumerate(train_loader):\n",
    "        optimizer.zero_grad()\n",
    "        output = model(X)\n",
    "        loss = F.nll_loss(output, y)\n",
    "        loss.backward()\n",
    "        optimizer.step()\n",
    "        if batch_idx % 10 == 0:\n",
    "            print(loss.item())"
   ]
  },
  {
   "cell_type": "code",
   "execution_count": 10,
   "metadata": {},
   "outputs": [
    {
     "name": "stdout",
     "output_type": "stream",
     "text": [
      ">> pip installing packages...\n",
      "b'Collecting torch.nn'\n",
      "b'Collecting torch.optim'\n",
      "b'Collecting torch.nn.functional'\n",
      "b'2.3235831260681152'\n",
      "b'2.297499179840088'\n",
      "b'2.2304017543792725'\n",
      "b'2.1860623359680176'\n",
      "b'2.176654100418091'\n",
      "b'2.1882312297821045'\n",
      "b'2.31077241897583'\n",
      "b'2.113748788833618'\n",
      "b'2.0091633796691895'\n",
      "b'1.699059247970581'\n",
      "b'1.8149709701538086'\n",
      "b'1.9171425104141235'\n",
      "b'1.7068111896514893'\n",
      "b'1.9913089275360107'\n",
      "b'2.056274890899658'\n",
      "b'1.9149219989776611'\n",
      "b'1.7322938442230225'\n",
      "b'1.897775411605835'\n",
      "b'1.8449532985687256'\n",
      "b'1.5693126916885376'\n",
      "b'1.8131828308105469'\n",
      "b'1.9242795705795288'\n",
      "b'1.9803434610366821'\n",
      "b'1.8561038970947266'\n",
      "b'1.7370134592056274'\n",
      "b'2.0289511680603027'\n",
      "b'1.8021776676177979'\n",
      "b'1.7831147909164429'\n",
      "b'1.8266890048980713'\n",
      "b'1.996827483177185'\n",
      "b'1.8948609828948975'\n",
      "b'1.923954963684082'\n",
      "b'1.6970036029815674'\n",
      "b'1.7137445211410522'\n",
      "b'1.9895038604736328'\n",
      "b'1.9378896951675415'\n",
      "b'1.7201573848724365'\n",
      "b'1.5771607160568237'\n",
      "b'1.8581135272979736'\n",
      "b'1.671290397644043'\n",
      "b'1.6155688762664795'\n",
      "b'1.5646493434906006'\n",
      "b'1.914010763168335'\n",
      "b'1.6436268091201782'\n",
      "b'1.876352310180664'\n",
      "b'1.6011775732040405'\n",
      "b'1.6620811223983765'\n",
      "b'1.5626285076141357'\n",
      "b'1.7934716939926147'\n",
      "b'1.7179285287857056'\n",
      "b'1.421799659729004'\n",
      "b'1.6790311336517334'\n",
      "b'1.6527255773544312'\n",
      "b'1.5961328744888306'\n",
      "b'1.7651455402374268'\n",
      "b'1.8219226598739624'\n",
      "b'1.4735320806503296'\n",
      "b'1.8804092407226562'\n",
      "b'1.6060764789581299'\n",
      "b'1.5713361501693726'\n",
      "b'1.7178970575332642'\n",
      "b'1.2492235898971558'\n",
      "b'1.4364888668060303'\n",
      "b'1.6922956705093384'\n",
      "b'1.857733130455017'\n",
      "b'1.6126922369003296'\n",
      "b'1.5825510025024414'\n",
      "b'1.4897290468215942'\n",
      "b'1.5713036060333252'\n",
      "b'1.4975303411483765'\n",
      "b'1.4834353923797607'\n",
      "b'1.48323655128479'\n",
      "b'1.4422893524169922'\n",
      "b'1.5090553760528564'\n",
      "b'1.7628730535507202'\n",
      "b'1.2184969186782837'\n",
      "b'1.7174928188323975'\n",
      "b'1.596970796585083'\n",
      "b'1.474003553390503'\n",
      "b'1.5735790729522705'\n",
      "b'1.5002336502075195'\n",
      "b'1.4487485885620117'\n",
      "b'1.4970471858978271'\n",
      "b'1.6913658380508423'\n",
      "b'1.6843265295028687'\n",
      "b'1.5510683059692383'\n",
      "b'1.2815290689468384'\n",
      "b'1.596312403678894'\n",
      "b'1.531294584274292'\n",
      "b'1.5856465101242065'\n",
      "b'1.5056099891662598'\n",
      "b'1.4758888483047485'\n",
      "b'1.3320701122283936'\n",
      "b'1.541237473487854'\n",
      "b'1.4547398090362549'\n",
      "b'1.4518449306488037'\n",
      "b'1.2708861827850342'\n",
      "b'1.4361048936843872'\n",
      "b'1.2753336429595947'\n",
      "b'1.4665343761444092'\n",
      "b'1.3722470998764038'\n",
      "b'1.5745290517807007'\n",
      "b'1.2300292253494263'\n",
      "b'1.3137106895446777'\n",
      "b'1.481297254562378'\n",
      "b'1.2317041158676147'\n",
      "b'1.595780611038208'\n",
      "b'1.4352055788040161'\n",
      "b'1.2040226459503174'\n",
      "b'1.4376075267791748'\n",
      "b'None'\n"
     ]
    }
   ],
   "source": [
    "run()"
   ]
  },
  {
   "cell_type": "code",
   "execution_count": null,
   "metadata": {},
   "outputs": [],
   "source": []
  }
 ],
 "metadata": {
  "kernelspec": {
   "display_name": "Python 3",
   "language": "python",
   "name": "python3"
  },
  "language_info": {
   "codemirror_mode": {
    "name": "ipython",
    "version": 3
   },
   "file_extension": ".py",
   "mimetype": "text/x-python",
   "name": "python",
   "nbconvert_exporter": "python",
   "pygments_lexer": "ipython3",
   "version": "3.7.3"
  }
 },
 "nbformat": 4,
 "nbformat_minor": 2
}
