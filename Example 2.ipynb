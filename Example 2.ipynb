{
 "cells": [
  {
   "cell_type": "code",
   "execution_count": 1,
   "metadata": {},
   "outputs": [],
   "source": [
    "hostname=\"3.235.3.53\"\n",
    "username=\"ubuntu\"\n",
    "key_filename=\"test.pem\""
   ]
  },
  {
   "cell_type": "code",
   "execution_count": 2,
   "metadata": {},
   "outputs": [],
   "source": [
    "import torch\n",
    "import torchvision\n",
    "import torchvision.transforms as transforms\n",
    "import torch.nn as nn\n",
    "import torch.optim as optim\n",
    "import torch.nn.functional as F\n",
    "import numpy as np\n",
    "from kick import kick"
   ]
  },
  {
   "cell_type": "code",
   "execution_count": 3,
   "metadata": {},
   "outputs": [
    {
     "name": "stdout",
     "output_type": "stream",
     "text": [
      "Files already downloaded and verified\n"
     ]
    }
   ],
   "source": [
    "# define a transformation pipeline for our raw data\n",
    "transform = transforms.Compose([transforms.ToTensor(), transforms.Normalize((0.5, 0.5, 0.5), (0.5, 0.5, 0.5))])\n",
    "\n",
    "# download raw data and then apply transformation pipeline\n",
    "trainset = torchvision.datasets.CIFAR10(root='./data', train=True, download=True, transform=transform)\n",
    "\n",
    "# then construct a generator from the transformed data\n",
    "trainloader = torch.utils.data.DataLoader(trainset, batch_size=32, shuffle=True)\n",
    "\n",
    "classes = ('plane', 'car', 'bird', 'cat', 'deer', 'dog', 'frog', 'horse', 'ship', 'truck')"
   ]
  },
  {
   "cell_type": "code",
   "execution_count": 4,
   "metadata": {},
   "outputs": [],
   "source": [
    "class LittleBlock(nn.Module):\n",
    "    def __init__(self, in_sz, out_sz):\n",
    "        super(LittleBlock, self).__init__()\n",
    "        self.conv = nn.Conv2d(in_channels=in_sz, out_channels=out_sz, kernel_size=3, stride=1, padding=1)\n",
    "        self.pool = nn.MaxPool2d(kernel_size=2)\n",
    "\n",
    "    def forward(self, x):\n",
    "        x = self.conv(x)\n",
    "        x = F.relu(x)\n",
    "        x = self.pool(x)\n",
    "        return x\n",
    "\n",
    "class Net(nn.Module):\n",
    "    def __init__(self):\n",
    "        super(Net, self).__init__()  # this is how objects that inherit from parent classes are instantiated\n",
    "        \n",
    "        self.unit1 = LittleBlock(in_sz=3, out_sz=6)\n",
    "        self.pool = nn.MaxPool2d(kernel_size=2)\n",
    "        self.conv2 = nn.Conv2d(in_channels=6, out_channels=16, kernel_size=3, stride=1, padding=1)\n",
    "        self.fc1 = nn.Linear(in_features=16 * 8 * 8, out_features=120)\n",
    "        self.fc2 = nn.Linear(in_features=120, out_features=84)  # lets use our custom layer\n",
    "        self.fc3 = nn.Linear(in_features=84, out_features=10)\n",
    "\n",
    "    def forward(self, x):\n",
    "        # think of these as the edges; they are transformations and are therefore stateless\n",
    "        \n",
    "        x = self.unit1(x)  # input is 3x32x32 and becomes 6x16x16        \n",
    "        x = self.conv2(x)  # after 2nd convolution, input becomes 16x16x16\n",
    "        x = F.relu(x)  \n",
    "        x = self.pool(x)  # after pooling, input is 16x8x8\n",
    "        \n",
    "        x = x.view(-1, 16 * 8 * 8)  # flattens into 1d vector\n",
    "        \n",
    "        x = self.fc1(x)  # input becomes 120 dim\n",
    "        x = F.relu(x)\n",
    "        x = self.fc2(x)  # input goes from 120 to 84 dim\n",
    "        x = F.relu(x)\n",
    "        x = self.fc3(x)  # outputs raw logits rather than class probabilities\n",
    "        return x"
   ]
  },
  {
   "cell_type": "code",
   "execution_count": 5,
   "metadata": {},
   "outputs": [],
   "source": [
    "net = Net()"
   ]
  },
  {
   "cell_type": "code",
   "execution_count": 6,
   "metadata": {},
   "outputs": [
    {
     "name": "stdout",
     "output_type": "stream",
     "text": [
      "initialize\n"
     ]
    }
   ],
   "source": [
    "@kick\n",
    "def results():\n",
    "    dataiter = iter(trainloader)\n",
    "    images, labels = dataiter.next()\n",
    "    return net(images)"
   ]
  },
  {
   "cell_type": "code",
   "execution_count": 7,
   "metadata": {},
   "outputs": [
    {
     "name": "stdout",
     "output_type": "stream",
     "text": [
      "b'Collecting torch.nn'\n",
      "b'Collecting torch.optim'\n",
      "b'Collecting torch.nn.functional'\n",
      "b'Collecting torchvision.transforms'\n",
      "b'Downloading https://www.cs.toronto.edu/~kriz/cifar-10-python.tar.gz to ./data/cifar-10-python.tar.gz'\n",
      "b'Extracting ./data/cifar-10-python.tar.gz to ./data'\n",
      "b'tensor([[-0.0866, -0.0434, -0.0972, -0.0333, -0.0271,  0.0340, -0.0222,  0.0882,'\n",
      "b'          0.0927,  0.0780],'\n",
      "b'        [-0.0864, -0.0381, -0.0945, -0.0422, -0.0264,  0.0311, -0.0232,  0.0911,'\n",
      "b'          0.0953,  0.0713],'\n",
      "b'        [-0.0894, -0.0416, -0.0971, -0.0393, -0.0282,  0.0348, -0.0161,  0.0898,'\n",
      "b'          0.0990,  0.0742],'\n",
      "b'        [-0.0881, -0.0334, -0.0981, -0.0405, -0.0346,  0.0371, -0.0261,  0.0899,'\n",
      "b'          0.0918,  0.0733],'\n",
      "b'        [-0.0829, -0.0354, -0.0988, -0.0314, -0.0244,  0.0306, -0.0237,  0.0858,'\n",
      "b'          0.0946,  0.0781],'\n",
      "b'        [-0.0850, -0.0386, -0.0976, -0.0326, -0.0266,  0.0294, -0.0269,  0.0918,'\n",
      "b'          0.0967,  0.0782],'\n",
      "b'        [-0.0841, -0.0353, -0.0971, -0.0351, -0.0287,  0.0296, -0.0256,  0.0892,'\n",
      "b'          0.0969,  0.0749],'\n",
      "b'        [-0.0889, -0.0403, -0.0953, -0.0366, -0.0284,  0.0308, -0.0274,  0.0877,'\n",
      "b'          0.0956,  0.0763],'\n",
      "b'        [-0.0871, -0.0364, -0.0953, -0.0384, -0.0323,  0.0300, -0.0200,  0.0880,'\n",
      "b'          0.0996,  0.0689],'\n",
      "b'        [-0.0830, -0.0361, -0.0949, -0.0401, -0.0251,  0.0333, -0.0235,  0.0826,'\n",
      "b'          0.0940,  0.0811],'\n",
      "b'        [-0.0931, -0.0422, -0.0966, -0.0419, -0.0327,  0.0385, -0.0244,  0.0922,'\n",
      "b'          0.0960,  0.0682],'\n",
      "b'        [-0.0982, -0.0398, -0.0997, -0.0457, -0.0341,  0.0296, -0.0318,  0.0906,'\n",
      "b'          0.0952,  0.0608],'\n",
      "b'        [-0.0919, -0.0354, -0.0880, -0.0385, -0.0282,  0.0345, -0.0198,  0.0864,'\n",
      "b'          0.0891,  0.0622],'\n",
      "b'        [-0.0813, -0.0403, -0.0980, -0.0340, -0.0269,  0.0322, -0.0243,  0.0881,'\n",
      "b'          0.0911,  0.0815],'\n",
      "b'        [-0.0877, -0.0327, -0.0981, -0.0423, -0.0282,  0.0311, -0.0264,  0.0844,'\n",
      "b'          0.0934,  0.0788],'\n",
      "b'        [-0.0949, -0.0415, -0.0994, -0.0484, -0.0290,  0.0328, -0.0233,  0.0899,'\n",
      "b'          0.0975,  0.0675],'\n",
      "b'        [-0.0964, -0.0492, -0.0961, -0.0499, -0.0417,  0.0291, -0.0240,  0.0876,'\n",
      "b'          0.0955,  0.0603],'\n",
      "b'        [-0.0836, -0.0357, -0.0972, -0.0307, -0.0227,  0.0286, -0.0218,  0.0903,'\n",
      "b'          0.0980,  0.0788],'\n",
      "b'        [-0.0883, -0.0415, -0.0934, -0.0367, -0.0287,  0.0364, -0.0217,  0.0933,'\n",
      "b'          0.0929,  0.0605],'\n",
      "b'        [-0.0830, -0.0361, -0.0997, -0.0329, -0.0279,  0.0304, -0.0269,  0.0872,'\n",
      "b'          0.1019,  0.0819],'\n",
      "b'        [-0.0885, -0.0423, -0.0942, -0.0391, -0.0287,  0.0369, -0.0256,  0.0848,'\n",
      "b'          0.0932,  0.0750],'\n",
      "b'        [-0.0851, -0.0370, -0.0950, -0.0375, -0.0231,  0.0365, -0.0203,  0.0846,'\n",
      "b'          0.0883,  0.0733],'\n",
      "b'        [-0.0823, -0.0441, -0.0969, -0.0367, -0.0294,  0.0351, -0.0279,  0.0902,'\n",
      "b'          0.0926,  0.0783],'\n",
      "b'        [-0.0855, -0.0434, -0.0968, -0.0381, -0.0296,  0.0322, -0.0265,  0.0908,'\n",
      "b'          0.0975,  0.0747],'\n",
      "b'        [-0.0879, -0.0352, -0.0989, -0.0378, -0.0263,  0.0330, -0.0188,  0.0847,'\n",
      "b'          0.0963,  0.0745],'\n",
      "b'        [-0.0864, -0.0402, -0.0961, -0.0321, -0.0257,  0.0328, -0.0227,  0.0904,'\n",
      "b'          0.0899,  0.0728],'\n",
      "b'        [-0.0919, -0.0359, -0.0929, -0.0417, -0.0367,  0.0281, -0.0288,  0.0939,'\n",
      "b'          0.0963,  0.0758],'\n",
      "b'        [-0.0843, -0.0339, -0.0991, -0.0326, -0.0250,  0.0325, -0.0180,  0.0913,'\n",
      "b'          0.0980,  0.0722],'\n",
      "b'        [-0.0853, -0.0435, -0.0939, -0.0371, -0.0286,  0.0322, -0.0269,  0.0885,'\n",
      "b'          0.0908,  0.0767],'\n",
      "b'        [-0.0921, -0.0399, -0.0971, -0.0397, -0.0249,  0.0337, -0.0205,  0.0867,'\n",
      "b'          0.0896,  0.0772],'\n",
      "b'        [-0.0925, -0.0426, -0.0956, -0.0394, -0.0334,  0.0330, -0.0293,  0.0886,'\n",
      "b'          0.0947,  0.0787],'\n",
      "b'        [-0.0885, -0.0411, -0.0949, -0.0386, -0.0306,  0.0305, -0.0221,  0.0881,'\n",
      "b'          0.0913,  0.0749]], grad_fn=<AddmmBackward>)'\n",
      "error\n"
     ]
    }
   ],
   "source": [
    "results()"
   ]
  },
  {
   "cell_type": "code",
   "execution_count": null,
   "metadata": {},
   "outputs": [],
   "source": []
  }
 ],
 "metadata": {
  "kernelspec": {
   "display_name": "Python 3",
   "language": "python",
   "name": "python3"
  },
  "language_info": {
   "codemirror_mode": {
    "name": "ipython",
    "version": 3
   },
   "file_extension": ".py",
   "mimetype": "text/x-python",
   "name": "python",
   "nbconvert_exporter": "python",
   "pygments_lexer": "ipython3",
   "version": "3.7.3"
  }
 },
 "nbformat": 4,
 "nbformat_minor": 2
}
