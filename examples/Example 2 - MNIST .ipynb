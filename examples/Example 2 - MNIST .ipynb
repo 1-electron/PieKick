{
 "cells": [
  {
   "cell_type": "code",
   "execution_count": 1,
   "metadata": {},
   "outputs": [],
   "source": [
    "import torch\n",
    "import torch.nn as nn\n",
    "import torch.nn.functional as F\n",
    "import torch.optim as optim\n",
    "from torchvision import datasets, transforms\n",
    "import numpy as np\n",
    "import torchvision\n",
    "from Kick import kick2gpu as kick"
   ]
  },
  {
   "cell_type": "code",
   "execution_count": 2,
   "metadata": {},
   "outputs": [],
   "source": [
    "class Net(nn.Module):\n",
    "    def __init__(self):\n",
    "        super(Net, self).__init__()\n",
    "        self.conv1 = nn.Conv2d(in_channels=1, out_channels=32, kernel_size=3, stride=1)\n",
    "        self.conv2 = nn.Conv2d(in_channels=32, out_channels=64, kernel_size=3, stride=1)\n",
    "        self.dropout1 = nn.Dropout2d(p=0.25)\n",
    "        self.dropout2 = nn.Dropout2d(p=0.5)\n",
    "        self.fc1 = nn.Linear(in_features=64*12*12, out_features=128)\n",
    "        self.fc2 = nn.Linear(in_features=128, out_features=10)\n",
    "\n",
    "    def forward(self, x):\n",
    "        x = self.conv1(x)\n",
    "        x = F.relu(x)\n",
    "        x = self.conv2(x)\n",
    "        x = F.max_pool2d(x, kernel_size=2)\n",
    "        x = self.dropout1(x)\n",
    "        x = torch.flatten(x, 1)\n",
    "        x = self.fc1(x)\n",
    "        x = F.relu(x)\n",
    "        x = self.dropout2(x)\n",
    "        x = self.fc2(x)\n",
    "        output = F.log_softmax(x, dim=1)\n",
    "        return output"
   ]
  },
  {
   "cell_type": "code",
   "execution_count": 3,
   "metadata": {},
   "outputs": [],
   "source": [
    "model = Net()\n",
    "optimizer = optim.Adadelta(model.parameters(), lr=1e-3)"
   ]
  },
  {
   "cell_type": "code",
   "execution_count": 4,
   "metadata": {},
   "outputs": [],
   "source": [
    "train_loader = torch.utils.data.DataLoader(datasets.MNIST('data', train=False, download=True, transform=transforms.Compose([transforms.ToTensor(), transforms.Normalize((0.1307,), (0.3081,))])), batch_size=10, shuffle=True)\n",
    "dataiter = iter(train_loader)"
   ]
  },
  {
   "cell_type": "code",
   "execution_count": 5,
   "metadata": {},
   "outputs": [
    {
     "name": "stdout",
     "output_type": "stream",
     "text": [
      ">> initialize\n"
     ]
    }
   ],
   "source": [
    "@kick\n",
    "def run():\n",
    "    for batch_idx, (X, y) in enumerate(train_loader):\n",
    "        optimizer.zero_grad()\n",
    "        output = model(X)\n",
    "        loss = F.nll_loss(output, y)\n",
    "        loss.backward()\n",
    "        optimizer.step()\n",
    "        if batch_idx % 10 == 0:\n",
    "            print(\"loss at epoch\", batch_idx, loss.item())"
   ]
  },
  {
   "cell_type": "code",
   "execution_count": 6,
   "metadata": {},
   "outputs": [
    {
     "name": "stdout",
     "output_type": "stream",
     "text": [
      ">>  torch.nn found\n",
      ">>  torch.optim found\n",
      ">>  torch found\n",
      ">>  torchvision found\n",
      ">>  torch.nn.functional found\n",
      ">>  numpy found\n",
      "b'loss at epoch 0 2.2729763984680176'\n",
      "b'loss at epoch 10 2.3152308464050293'\n",
      "b'loss at epoch 20 2.431565523147583'\n",
      "b'loss at epoch 30 2.279789924621582'\n",
      "b'loss at epoch 40 2.3033502101898193'\n",
      "b'loss at epoch 50 2.2365305423736572'\n",
      "b'loss at epoch 60 2.321315050125122'\n",
      "b'loss at epoch 70 2.3098807334899902'\n",
      "b'loss at epoch 80 2.2988438606262207'\n",
      "b'loss at epoch 90 2.2989726066589355'\n",
      "b'loss at epoch 100 2.3266403675079346'\n",
      "b'loss at epoch 110 2.2683632373809814'\n",
      "b'loss at epoch 120 2.2518293857574463'\n",
      "b'loss at epoch 130 2.238673686981201'\n",
      "b'loss at epoch 140 2.2656502723693848'\n",
      "b'loss at epoch 150 2.3119847774505615'\n",
      "b'loss at epoch 160 2.295301675796509'\n",
      "b'loss at epoch 170 2.24851655960083'\n",
      "b'loss at epoch 180 2.2337591648101807'\n",
      "b'loss at epoch 190 2.224902629852295'\n",
      "b'loss at epoch 200 2.261570930480957'\n",
      "b'loss at epoch 210 2.295309066772461'\n",
      "b'loss at epoch 220 2.221461534500122'\n",
      "b'loss at epoch 230 2.284806251525879'\n",
      "b'loss at epoch 240 2.30708909034729'\n",
      "b'loss at epoch 250 2.2188122272491455'\n",
      "b'loss at epoch 260 2.212965250015259'\n",
      "b'loss at epoch 270 2.1833815574645996'\n",
      "b'loss at epoch 280 2.270719051361084'\n",
      "b'loss at epoch 290 2.2416577339172363'\n",
      "b'loss at epoch 300 2.1661300659179688'\n",
      "b'loss at epoch 310 2.2617862224578857'\n",
      "b'loss at epoch 320 2.252981185913086'\n",
      "b'loss at epoch 330 2.187300205230713'\n",
      "b'loss at epoch 340 2.185368061065674'\n",
      "b'loss at epoch 350 2.197356700897217'\n",
      "b'loss at epoch 360 2.1848230361938477'\n",
      "b'loss at epoch 370 2.2084736824035645'\n",
      "b'loss at epoch 380 2.154550552368164'\n",
      "b'loss at epoch 390 2.1872143745422363'\n",
      "b'loss at epoch 400 2.117387533187866'\n",
      "b'loss at epoch 410 2.210279941558838'\n",
      "b'loss at epoch 420 2.1661972999572754'\n",
      "b'loss at epoch 430 2.1194400787353516'\n",
      "b'loss at epoch 440 2.1999881267547607'\n",
      "b'loss at epoch 450 2.175255537033081'\n",
      "b'loss at epoch 460 2.2351021766662598'\n",
      "b'loss at epoch 470 2.1445136070251465'\n",
      "b'loss at epoch 480 2.2953450679779053'\n",
      "b'loss at epoch 490 2.054291248321533'\n",
      "b'loss at epoch 500 2.2097761631011963'\n",
      "b'loss at epoch 510 2.156987190246582'\n",
      "b'loss at epoch 520 2.1701772212982178'\n",
      "b'loss at epoch 530 2.0802574157714844'\n",
      "b'loss at epoch 540 2.172245740890503'\n",
      "b'loss at epoch 550 2.120609760284424'\n",
      "b'loss at epoch 560 2.115647315979004'\n",
      "b'loss at epoch 570 2.2279880046844482'\n",
      "b'loss at epoch 580 2.1387548446655273'\n",
      "b'loss at epoch 590 2.1812682151794434'\n",
      "b'loss at epoch 600 2.0964746475219727'\n",
      "b'loss at epoch 610 2.0875110626220703'\n",
      "b'loss at epoch 620 2.1707911491394043'\n",
      "b'loss at epoch 630 2.081416606903076'\n",
      "b'loss at epoch 640 2.1406006813049316'\n",
      "b'loss at epoch 650 2.06813383102417'\n",
      "b'loss at epoch 660 2.156743049621582'\n",
      "b'loss at epoch 670 2.070352077484131'\n",
      "b'loss at epoch 680 2.1398863792419434'\n",
      "b'loss at epoch 690 2.1240921020507812'\n",
      "b'loss at epoch 700 2.09087872505188'\n",
      "b'loss at epoch 710 2.0362327098846436'\n",
      "b'loss at epoch 720 1.9959604740142822'\n",
      "b'loss at epoch 730 2.088047742843628'\n",
      "b'loss at epoch 740 2.017151355743408'\n",
      "b'loss at epoch 750 2.0271942615509033'\n",
      "b'loss at epoch 760 2.105409860610962'\n",
      "b'loss at epoch 770 2.1285738945007324'\n",
      "b'loss at epoch 780 2.0468926429748535'\n",
      "b'loss at epoch 790 2.0382637977600098'\n",
      "b'loss at epoch 800 2.068164587020874'\n",
      "b'loss at epoch 810 2.0100834369659424'\n",
      "b'loss at epoch 820 1.908418893814087'\n",
      "b'loss at epoch 830 2.040933847427368'\n",
      "b'loss at epoch 840 2.0846521854400635'\n",
      "b'loss at epoch 850 2.0757832527160645'\n",
      "b'loss at epoch 860 1.9440224170684814'\n",
      "b'loss at epoch 870 2.159501314163208'\n",
      "b'loss at epoch 880 2.0707449913024902'\n",
      "b'loss at epoch 890 1.998774528503418'\n",
      "b'loss at epoch 900 2.019369125366211'\n",
      "b'loss at epoch 910 1.9133329391479492'\n",
      "b'loss at epoch 920 2.0742385387420654'\n",
      "b'loss at epoch 930 1.997925043106079'\n",
      "b'loss at epoch 940 2.143171787261963'\n",
      "b'loss at epoch 950 2.098339557647705'\n",
      "b'loss at epoch 960 2.1405110359191895'\n",
      "b'loss at epoch 970 2.075772523880005'\n",
      "b'loss at epoch 980 2.015026569366455'\n",
      "b'loss at epoch 990 2.0706708431243896'\n",
      "b'None'\n"
     ]
    }
   ],
   "source": [
    "run()"
   ]
  },
  {
   "cell_type": "code",
   "execution_count": null,
   "metadata": {},
   "outputs": [],
   "source": []
  }
 ],
 "metadata": {
  "kernelspec": {
   "display_name": "Python 3",
   "language": "python",
   "name": "python3"
  },
  "language_info": {
   "codemirror_mode": {
    "name": "ipython",
    "version": 3
   },
   "file_extension": ".py",
   "mimetype": "text/x-python",
   "name": "python",
   "nbconvert_exporter": "python",
   "pygments_lexer": "ipython3",
   "version": "3.7.6"
  }
 },
 "nbformat": 4,
 "nbformat_minor": 2
}
