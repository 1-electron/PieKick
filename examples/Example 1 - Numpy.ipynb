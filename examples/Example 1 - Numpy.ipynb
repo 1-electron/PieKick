{
 "cells": [
  {
   "cell_type": "code",
   "execution_count": 3,
   "metadata": {},
   "outputs": [],
   "source": [
    "import numpy as np\n",
    "from Kick import kick"
   ]
  },
  {
   "cell_type": "code",
   "execution_count": 4,
   "metadata": {},
   "outputs": [],
   "source": [
    "np.random.seed(3)\n",
    "a = np.random.rand(4, 4)\n",
    "b = np.random.rand(4, 4)"
   ]
  },
  {
   "cell_type": "code",
   "execution_count": 5,
   "metadata": {},
   "outputs": [
    {
     "data": {
      "text/plain": [
       "array([[0.57061425, 1.50398765, 1.04239005, 0.74776316],\n",
       "       [0.42434032, 1.4123367 , 0.86701717, 0.6784842 ],\n",
       "       [0.31972514, 0.78538868, 0.66251945, 0.4043114 ],\n",
       "       [0.69208518, 1.63677287, 1.07481219, 0.86053276]])"
      ]
     },
     "execution_count": 5,
     "metadata": {},
     "output_type": "execute_result"
    }
   ],
   "source": [
    "a.dot(b)"
   ]
  },
  {
   "cell_type": "code",
   "execution_count": 6,
   "metadata": {},
   "outputs": [],
   "source": [
    "@kick(\"gpu\")\n",
    "def matmul(x, y):\n",
    "    return x.dot(y)"
   ]
  },
  {
   "cell_type": "code",
   "execution_count": 7,
   "metadata": {},
   "outputs": [
    {
     "name": "stdout",
     "output_type": "stream",
     "text": [
      ">> copied source\n",
      ">> generated requirements file\n",
      ">> remote execution\n",
      ">> clean up\n"
     ]
    },
    {
     "data": {
      "text/plain": [
       "array([[0.57061425, 1.50398765, 1.04239005, 0.74776316],\n",
       "       [0.42434032, 1.4123367 , 0.86701717, 0.6784842 ],\n",
       "       [0.31972514, 0.78538868, 0.66251945, 0.4043114 ],\n",
       "       [0.69208518, 1.63677287, 1.07481219, 0.86053276]])"
      ]
     },
     "execution_count": 7,
     "metadata": {},
     "output_type": "execute_result"
    }
   ],
   "source": [
    "matmul(a, b)"
   ]
  },
  {
   "cell_type": "code",
   "execution_count": null,
   "metadata": {},
   "outputs": [],
   "source": []
  }
 ],
 "metadata": {
  "kernelspec": {
   "display_name": "Python 3",
   "language": "python",
   "name": "python3"
  },
  "language_info": {
   "codemirror_mode": {
    "name": "ipython",
    "version": 3
   },
   "file_extension": ".py",
   "mimetype": "text/x-python",
   "name": "python",
   "nbconvert_exporter": "python",
   "pygments_lexer": "ipython3",
   "version": "3.8.3"
  }
 },
 "nbformat": 4,
 "nbformat_minor": 4
}
