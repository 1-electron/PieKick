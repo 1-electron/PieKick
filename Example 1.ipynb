{
 "cells": [
  {
   "cell_type": "code",
   "execution_count": 11,
   "metadata": {},
   "outputs": [],
   "source": [
    "import numpy as np\n",
    "from Kick import kick_web"
   ]
  },
  {
   "cell_type": "code",
   "execution_count": 12,
   "metadata": {},
   "outputs": [],
   "source": [
    "a = np.random.rand(4, 4)\n",
    "b = np.random.rand(4, 4)"
   ]
  },
  {
   "cell_type": "code",
   "execution_count": 13,
   "metadata": {},
   "outputs": [
    {
     "data": {
      "text/plain": [
       "array([[0.86983788, 0.7063232 , 0.38849109, 0.92141015],\n",
       "       [1.5308224 , 1.69662519, 0.82284114, 2.06502167],\n",
       "       [0.91667442, 1.13211161, 0.38082245, 1.19444932],\n",
       "       [0.96585905, 1.17997047, 0.51970361, 1.41235405]])"
      ]
     },
     "execution_count": 13,
     "metadata": {},
     "output_type": "execute_result"
    }
   ],
   "source": [
    "a.dot(b)"
   ]
  },
  {
   "cell_type": "code",
   "execution_count": 14,
   "metadata": {},
   "outputs": [
    {
     "name": "stdout",
     "output_type": "stream",
     "text": [
      ">> initialize\n"
     ]
    }
   ],
   "source": [
    "@kick_web\n",
    "def matmul(a, b):\n",
    "    return a.dot(b)"
   ]
  },
  {
   "cell_type": "code",
   "execution_count": 16,
   "metadata": {},
   "outputs": [
    {
     "name": "stdout",
     "output_type": "stream",
     "text": [
      "[[1.2416106  0.55910762 0.69703909 0.70765646]\n",
      " [2.4075267  1.13992253 1.47486529 1.05101594]\n",
      " [2.25183152 1.26711627 1.35230986 1.28470277]\n",
      " [1.74106834 0.97434373 1.0974327  0.83844974]]\n"
     ]
    }
   ],
   "source": [
    "c = matmul(a, b)"
   ]
  },
  {
   "cell_type": "code",
   "execution_count": 17,
   "metadata": {},
   "outputs": [
    {
     "data": {
      "text/plain": [
       "array([[1.2416106 , 0.55910762, 0.69703909, 0.70765646],\n",
       "       [2.4075267 , 1.13992253, 1.47486529, 1.05101594],\n",
       "       [2.25183152, 1.26711627, 1.35230986, 1.28470277],\n",
       "       [1.74106834, 0.97434373, 1.0974327 , 0.83844974]])"
      ]
     },
     "execution_count": 17,
     "metadata": {},
     "output_type": "execute_result"
    }
   ],
   "source": [
    "c"
   ]
  },
  {
   "cell_type": "code",
   "execution_count": null,
   "metadata": {},
   "outputs": [],
   "source": []
  }
 ],
 "metadata": {
  "kernelspec": {
   "display_name": "Python 3",
   "language": "python",
   "name": "python3"
  },
  "language_info": {
   "codemirror_mode": {
    "name": "ipython",
    "version": 3
   },
   "file_extension": ".py",
   "mimetype": "text/x-python",
   "name": "python",
   "nbconvert_exporter": "python",
   "pygments_lexer": "ipython3",
   "version": "3.7.7"
  }
 },
 "nbformat": 4,
 "nbformat_minor": 2
}
