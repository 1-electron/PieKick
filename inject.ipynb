{
 "cells": [
  {
   "cell_type": "markdown",
   "metadata": {},
   "source": [
    "# [example](https://blog.ruanbekker.com/blog/2018/04/23/using-paramiko-module-in-python-to-execute-remote-bash-commands/)"
   ]
  },
  {
   "cell_type": "code",
   "execution_count": 115,
   "metadata": {},
   "outputs": [],
   "source": [
    "import os\n",
    "    \n",
    "def hello():\n",
    "    print(\"fh\")\n",
    "    print(os.getpid())"
   ]
  },
  {
   "cell_type": "code",
   "execution_count": 121,
   "metadata": {},
   "outputs": [
    {
     "data": {
      "text/plain": [
       "[<module 'os' from '/Users/vincenttang/anaconda3/lib/python3.7/os.py'>,\n",
       " <module 'sys' (built-in)>]"
      ]
     },
     "execution_count": 121,
     "metadata": {},
     "output_type": "execute_result"
    }
   ],
   "source": [
    "# https://stackoverflow.com/questions/4858100/how-to-list-imported-modules\n",
    "import sys\n",
    "modulenames = set(sys.modules) & set(globals())\n",
    "allmodules = [sys.modules[name] for name in modulenames]\n",
    "allmodules"
   ]
  },
  {
   "cell_type": "code",
   "execution_count": 60,
   "metadata": {},
   "outputs": [
    {
     "data": {
      "text/plain": [
       "'def hello():\\n    print(\"fh\")\\n    print(os.getpid())\\n'"
      ]
     },
     "execution_count": 60,
     "metadata": {},
     "output_type": "execute_result"
    }
   ],
   "source": [
    "# for i in inspect.getsourcelines(hello):\n",
    "source_code = inspect.getsource(hello)\n",
    "source_code"
   ]
  },
  {
   "cell_type": "code",
   "execution_count": 83,
   "metadata": {},
   "outputs": [],
   "source": [
    "import os\n",
    "\n",
    "def hello():\n",
    "    print(\"fh\")\n",
    "    print(os.getpid())"
   ]
  },
  {
   "cell_type": "code",
   "execution_count": 89,
   "metadata": {},
   "outputs": [],
   "source": [
    "b = 'if __name__ == \"__main__\":\\n     import os\\n     hello()\\n'"
   ]
  },
  {
   "cell_type": "code",
   "execution_count": 90,
   "metadata": {},
   "outputs": [],
   "source": [
    "c = source_code + b"
   ]
  },
  {
   "cell_type": "code",
   "execution_count": 91,
   "metadata": {},
   "outputs": [],
   "source": [
    "# https://thepythonguru.com/pickling-objects-in-python/\n",
    "f = open(\"demofile2.py\", \"w\")  # a for append, w for overwrite\n",
    "f.write(c)\n",
    "f.close()"
   ]
  },
  {
   "cell_type": "code",
   "execution_count": 95,
   "metadata": {},
   "outputs": [],
   "source": [
    "import paramiko\n",
    "\n",
    "ssh = paramiko.SSHClient()  # https://blog.ruanbekker.com/blog/2018/04/23/using-paramiko-module-in-python-to-execute-remote-bash-commands/\n",
    "ssh.set_missing_host_key_policy(paramiko.AutoAddPolicy())\n",
    "ssh.connect(hostname='3.94.21.39', username='ubuntu', key_filename='test.pem')\n",
    "\n",
    "\n",
    "ftp_client=ssh.open_sftp()  # https://medium.com/@keagileageek/paramiko-how-to-ssh-and-file-transfers-with-python-75766179de73\n",
    "ftp_client.put('demofile2.py', \"demofile2.py\")\n",
    "ftp_client.close()"
   ]
  },
  {
   "cell_type": "code",
   "execution_count": 99,
   "metadata": {},
   "outputs": [
    {
     "name": "stdout",
     "output_type": "stream",
     "text": [
      "b'fh'\n",
      "b'3040'\n"
     ]
    }
   ],
   "source": [
    "ssh.connect(hostname='3.94.21.39', username='ubuntu', key_filename='test.pem')\n",
    "\n",
    "stdin, stdout, stderr = ssh.exec_command(\"python3 demofile2.py\")\n",
    "\n",
    "for line in stdout.read().splitlines():\n",
    "    print(line)\n",
    "\n",
    "ssh.close()\n"
   ]
  },
  {
   "cell_type": "code",
   "execution_count": 189,
   "metadata": {},
   "outputs": [],
   "source": [
    "import paramiko\n",
    "\n",
    "def my_decorator(func):\n",
    "    def modfied_func():\n",
    "        source_code = inspect.getsource(func).splitlines()[1:]\n",
    "        \n",
    "        f = open(\"temp.py\", \"w\")  # a for append, w for overwrite\n",
    "        for l in ls:\n",
    "            f.write(l + \"\\n\")\n",
    "        f.close()\n",
    "        \n",
    "        f = open(\"temp.py\", \"a\")  # a for append, w for overwrite\n",
    "        b = 'if __name__ == \"__main__\":\\n     import os\\n     foobar()\\n'\n",
    "        f.write(b)\n",
    "        f.close()\n",
    "        ssh = paramiko.SSHClient()  # https://blog.ruanbekker.com/blog/2018/04/23/using-paramiko-module-in-python-to-execute-remote-bash-commands/\n",
    "        ssh.set_missing_host_key_policy(paramiko.AutoAddPolicy())\n",
    "        ssh.connect(hostname='3.94.21.39', username='ubuntu', key_filename='test.pem')\n",
    "\n",
    "\n",
    "        ftp_client=ssh.open_sftp()  # https://medium.com/@keagileageek/paramiko-how-to-ssh-and-file-transfers-with-python-75766179de73\n",
    "        ftp_client.put('temp.py', \"temp.py\")\n",
    "        ftp_client.close()\n",
    "        \n",
    "        ssh.connect(hostname='3.94.21.39', username='ubuntu', key_filename='test.pem')\n",
    "\n",
    "        stdin, stdout, stderr = ssh.exec_command(\"python3 temp.py\")\n",
    "\n",
    "        for line in stdout.read().splitlines():\n",
    "            print(line)\n",
    "\n",
    "        ssh.close()\n",
    "\n",
    "    return modfied_func  # we can modify func's output"
   ]
  },
  {
   "cell_type": "code",
   "execution_count": 190,
   "metadata": {},
   "outputs": [],
   "source": [
    "@my_decorator\n",
    "def foobar():\n",
    "    print(\"new\")\n",
    "    print(os.getpid())"
   ]
  },
  {
   "cell_type": "code",
   "execution_count": 191,
   "metadata": {},
   "outputs": [
    {
     "name": "stdout",
     "output_type": "stream",
     "text": [
      "b'new'\n",
      "b'4355'\n"
     ]
    }
   ],
   "source": [
    "foobar()"
   ]
  },
  {
   "cell_type": "code",
   "execution_count": null,
   "metadata": {},
   "outputs": [],
   "source": []
  }
 ],
 "metadata": {
  "kernelspec": {
   "display_name": "Python 3",
   "language": "python",
   "name": "python3"
  },
  "language_info": {
   "codemirror_mode": {
    "name": "ipython",
    "version": 3
   },
   "file_extension": ".py",
   "mimetype": "text/x-python",
   "name": "python",
   "nbconvert_exporter": "python",
   "pygments_lexer": "ipython3",
   "version": "3.7.3"
  }
 },
 "nbformat": 4,
 "nbformat_minor": 2
}
