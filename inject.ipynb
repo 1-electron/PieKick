{
 "cells": [
  {
   "cell_type": "markdown",
   "metadata": {},
   "source": [
    "# [example](https://blog.ruanbekker.com/blog/2018/04/23/using-paramiko-module-in-python-to-execute-remote-bash-commands/)"
   ]
  },
  {
   "cell_type": "code",
   "execution_count": 121,
   "metadata": {},
   "outputs": [
    {
     "data": {
      "text/plain": [
       "[<module 'os' from '/Users/vincenttang/anaconda3/lib/python3.7/os.py'>,\n",
       " <module 'sys' (built-in)>]"
      ]
     },
     "execution_count": 121,
     "metadata": {},
     "output_type": "execute_result"
    }
   ],
   "source": [
    "# https://stackoverflow.com/questions/4858100/how-to-list-imported-modules\n",
    "import sys\n",
    "modulenames = set(sys.modules) & set(globals())\n",
    "allmodules = [sys.modules[name] for name in modulenames]\n",
    "allmodules"
   ]
  },
  {
   "cell_type": "code",
   "execution_count": 95,
   "metadata": {},
   "outputs": [],
   "source": [
    "import paramiko\n",
    "import inspect\n",
    "\n",
    "def my_decorator(func):\n",
    "    hostname = '3.94.21.39'\n",
    "    username=\"ubuntu\"\n",
    "    key_filename=\"test.pem\"\n",
    "    \n",
    "    def modfied_func():\n",
    "        \n",
    "        # fetch source code and write it to file\n",
    "        print(func.__name__)  # we know the name of the method\n",
    "        source_code = inspect.getsourcelines(func)[0][1:]\n",
    "        fname = str(func.__name__) + \".py\"\n",
    "        f = open(fname, \"w\")  # a for append, w for overwrite\n",
    "        for line in source_code:\n",
    "            f.write(line)\n",
    "        f.close()\n",
    "\n",
    "        \n",
    "        # append boilerpate __main__ so we can call from command line\n",
    "        f = open(fname, \"a\")  # a for append, w for overwrite\n",
    "        b = 'if __name__ == \"__main__\":\\n     import os\\n     foobar()\\n'\n",
    "        f.write(b)\n",
    "        f.close()\n",
    "        \n",
    "        \n",
    "        # connect to remote\n",
    "        ssh = paramiko.SSHClient()  # https://blog.ruanbekker.com/blog/2018/04/23/using-paramiko-module-in-python-to-execute-remote-bash-commands/\n",
    "        ssh.set_missing_host_key_policy(paramiko.AutoAddPolicy())\n",
    "        ssh.connect(hostname=hostname, username=username, key_filename=key_filename)\n",
    "\n",
    "        # upload code\n",
    "        ftp_client=ssh.open_sftp()  # https://medium.com/@keagileageek/paramiko-how-to-ssh-and-file-transfers-with-python-75766179de73\n",
    "        ftp_client.put(fname, fname)\n",
    "        ftp_client.close()\n",
    "        \n",
    "        # call code\n",
    "        stdin, stdout, stderr = ssh.exec_command(\"python3 \" + str(fname))\n",
    "\n",
    "        for line in stdout.read().splitlines():\n",
    "            print(line)\n",
    "            \n",
    "        ssh.exec_command(\"rm \" + str(fname))\n",
    "\n",
    "        ssh.close()\n",
    "\n",
    "    return modfied_func"
   ]
  },
  {
   "cell_type": "code",
   "execution_count": 96,
   "metadata": {},
   "outputs": [],
   "source": [
    "import os\n",
    "\n",
    "@my_decorator\n",
    "def foobar():\n",
    "    for i in range(10):\n",
    "        print(i)\n",
    "    print(os.getpid())"
   ]
  },
  {
   "cell_type": "code",
   "execution_count": 97,
   "metadata": {},
   "outputs": [
    {
     "name": "stdout",
     "output_type": "stream",
     "text": [
      "foobar\n",
      "b'0'\n",
      "b'1'\n",
      "b'2'\n",
      "b'3'\n",
      "b'4'\n",
      "b'5'\n",
      "b'6'\n",
      "b'7'\n",
      "b'8'\n",
      "b'9'\n",
      "b'5407'\n"
     ]
    }
   ],
   "source": [
    "foobar()"
   ]
  },
  {
   "cell_type": "code",
   "execution_count": null,
   "metadata": {},
   "outputs": [],
   "source": []
  }
 ],
 "metadata": {
  "kernelspec": {
   "display_name": "Python 3",
   "language": "python",
   "name": "python3"
  },
  "language_info": {
   "codemirror_mode": {
    "name": "ipython",
    "version": 3
   },
   "file_extension": ".py",
   "mimetype": "text/x-python",
   "name": "python",
   "nbconvert_exporter": "python",
   "pygments_lexer": "ipython3",
   "version": "3.7.3"
  }
 },
 "nbformat": 4,
 "nbformat_minor": 2
}
