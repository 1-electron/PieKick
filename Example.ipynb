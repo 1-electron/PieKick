{
 "cells": [
  {
   "cell_type": "markdown",
   "metadata": {},
   "source": [
    "# [example](https://blog.ruanbekker.com/blog/2018/04/23/using-paramiko-module-in-python-to-execute-remote-bash-commands/)"
   ]
  },
  {
   "cell_type": "code",
   "execution_count": 36,
   "metadata": {},
   "outputs": [],
   "source": [
    "from kick import kick"
   ]
  },
  {
   "cell_type": "code",
   "execution_count": 42,
   "metadata": {},
   "outputs": [],
   "source": [
    "import os\n",
    "\n",
    "@kick\n",
    "def neat():\n",
    "    for i in range(5):\n",
    "        print(i)\n",
    "    print(os.getpid())\n",
    "    f = open(\"final\", \"w\")\n",
    "    f.write(\"hellooooo\")\n",
    "    f.close()"
   ]
  },
  {
   "cell_type": "code",
   "execution_count": 43,
   "metadata": {},
   "outputs": [],
   "source": [
    "def bar():\n",
    "    neat()\n",
    "    f = open(\"temp\", \"w\")\n",
    "    f.write(\"hellooooo\")\n",
    "    f.close()"
   ]
  },
  {
   "cell_type": "code",
   "execution_count": 45,
   "metadata": {},
   "outputs": [
    {
     "name": "stdout",
     "output_type": "stream",
     "text": [
      "def kick(func):\n",
      "    hostname = '3.94.21.39'\n",
      "    username=\"ubuntu\"\n",
      "    key_filename=\"test.pem\"\n",
      "    \n",
      "    def modfied_func():\n",
      "        \n",
      "        # fetch source code and write it to file\n",
      "        print(\"method name is: \", func.__name__)  # we know the name of the method\n",
      "        source_code = inspect.getsourcelines(func)[0][1:]\n",
      "        fname = str(func.__name__) + \".py\"\n",
      "        f = open(fname, \"w\")  # a for append, w for overwrite\n",
      "        for line in source_code:\n",
      "            f.write(line)\n",
      "        f.close()\n",
      "\n",
      "        \n",
      "        # append boilerpate __main__ so we can call from command line\n",
      "        f = open(fname, \"a\")  # a for append, w for overwrite\n",
      "        b = 'if __name__ == \"__main__\":\\n    import os\\n    ' + str(func.__name__) + '()\\n'\n",
      "        print(b)\n",
      "        f.write(b)\n",
      "        f.close()\n",
      "        \n",
      "        \n",
      "        # connect to remote https://blog.ruanbekker.com/blog/2018/04/23/using-paramiko-module-in-python-to-execute-remote-bash-commands/\n",
      "        ssh = paramiko.SSHClient()\n",
      "        ssh.set_missing_host_key_policy(paramiko.AutoAddPolicy())\n",
      "        ssh.connect(hostname=hostname, username=username, key_filename=key_filename)\n",
      "\n",
      "        # upload code\n",
      "        ftp_client=ssh.open_sftp()  # https://medium.com/@keagileageek/paramiko-how-to-ssh-and-file-transfers-with-python-75766179de73\n",
      "        ftp_client.put(fname, fname)\n",
      "        ftp_client.close()\n",
      "        \n",
      "        # call code\n",
      "        stdin, stdout, stderr = ssh.exec_command(\"python3 \" + str(fname))\n",
      "\n",
      "        for line in stdout.read().splitlines():\n",
      "            print(line)\n",
      "            \n",
      "        ssh.exec_command(\"rm \" + str(fname))\n",
      "\n",
      "        ssh.close()\n",
      "\n",
      "    return modfied_func\n",
      "\n",
      "----------\n",
      "    def modfied_func():\n",
      "        \n",
      "        # fetch source code and write it to file\n",
      "        print(\"method name is: \", func.__name__)  # we know the name of the method\n",
      "        source_code = inspect.getsourcelines(func)[0][1:]\n",
      "        fname = str(func.__name__) + \".py\"\n",
      "        f = open(fname, \"w\")  # a for append, w for overwrite\n",
      "        for line in source_code:\n",
      "            f.write(line)\n",
      "        f.close()\n",
      "\n",
      "        \n",
      "        # append boilerpate __main__ so we can call from command line\n",
      "        f = open(fname, \"a\")  # a for append, w for overwrite\n",
      "        b = 'if __name__ == \"__main__\":\\n    import os\\n    ' + str(func.__name__) + '()\\n'\n",
      "        print(b)\n",
      "        f.write(b)\n",
      "        f.close()\n",
      "        \n",
      "        \n",
      "        # connect to remote https://blog.ruanbekker.com/blog/2018/04/23/using-paramiko-module-in-python-to-execute-remote-bash-commands/\n",
      "        ssh = paramiko.SSHClient()\n",
      "        ssh.set_missing_host_key_policy(paramiko.AutoAddPolicy())\n",
      "        ssh.connect(hostname=hostname, username=username, key_filename=key_filename)\n",
      "\n",
      "        # upload code\n",
      "        ftp_client=ssh.open_sftp()  # https://medium.com/@keagileageek/paramiko-how-to-ssh-and-file-transfers-with-python-75766179de73\n",
      "        ftp_client.put(fname, fname)\n",
      "        ftp_client.close()\n",
      "        \n",
      "        # call code\n",
      "        stdin, stdout, stderr = ssh.exec_command(\"python3 \" + str(fname))\n",
      "\n",
      "        for line in stdout.read().splitlines():\n",
      "            print(line)\n",
      "            \n",
      "        ssh.exec_command(\"rm \" + str(fname))\n",
      "\n",
      "        ssh.close()\n",
      "\n",
      "----------\n",
      "def bar():\n",
      "    neat()\n",
      "    f = open(\"temp\", \"w\")\n",
      "    f.write(\"hellooooo\")\n",
      "    f.close()\n",
      "\n",
      "----------\n"
     ]
    }
   ],
   "source": [
    "import inspect\n",
    "\n",
    "for k in list(globals().keys()):\n",
    "    if callable(globals()[k]) and (k not in [\"get_ipython\", \"exit\", \"_13\", \"quit\", \"__\"]):\n",
    "        print(inspect.getsource(globals()[k]))\n",
    "        print(\"-\" * 10)"
   ]
  },
  {
   "cell_type": "code",
   "execution_count": 48,
   "metadata": {},
   "outputs": [
    {
     "data": {
      "text/plain": [
       "<function kick.kick.<locals>.modfied_func()>"
      ]
     },
     "execution_count": 48,
     "metadata": {},
     "output_type": "execute_result"
    }
   ],
   "source": [
    "globals()[\"neat\"]"
   ]
  },
  {
   "cell_type": "code",
   "execution_count": null,
   "metadata": {},
   "outputs": [],
   "source": []
  }
 ],
 "metadata": {
  "kernelspec": {
   "display_name": "Python 3",
   "language": "python",
   "name": "python3"
  },
  "language_info": {
   "codemirror_mode": {
    "name": "ipython",
    "version": 3
   },
   "file_extension": ".py",
   "mimetype": "text/x-python",
   "name": "python",
   "nbconvert_exporter": "python",
   "pygments_lexer": "ipython3",
   "version": "3.7.3"
  }
 },
 "nbformat": 4,
 "nbformat_minor": 2
}
