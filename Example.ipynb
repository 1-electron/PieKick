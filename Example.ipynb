{
 "cells": [
  {
   "cell_type": "markdown",
   "metadata": {},
   "source": [
    "# [example](https://blog.ruanbekker.com/blog/2018/04/23/using-paramiko-module-in-python-to-execute-remote-bash-commands/)"
   ]
  },
  {
   "cell_type": "code",
   "execution_count": 17,
   "metadata": {},
   "outputs": [],
   "source": [
    "import paramiko\n",
    "\n",
    "def kicker(func):\n",
    "    cells = globals()['_ih']\n",
    "    \n",
    "    def modfied_func():\n",
    "        \n",
    "        # step 1: load everything into a single file\n",
    "        f = open(\"source_code.py\", \"w\")\n",
    "        \n",
    "        for idx, cell in enumerate(cells[:-1]):\n",
    "            \n",
    "            # skip itself\n",
    "            if \"def kicker(func):\" in cell:\n",
    "                pass\n",
    "            \n",
    "            else:\n",
    "                lines = cell.split(\"\\n\")\n",
    "                for line in lines:\n",
    "                    if \"@kicker\" in line:\n",
    "                        pass\n",
    "                    else:\n",
    "                        f.write(line + \"\\n\")\n",
    "                f.write(\"\\n\")\n",
    "        f.close()\n",
    "        \n",
    "        # step 2: insert __main__\n",
    "        calling_cell = cells[-1]\n",
    "        print(calling_cell)\n",
    "        f = open(\"source_code.py\", \"a\")  # a for append, w for overwrite\n",
    "        boilerplate = 'if __name__ == \"__main__\":\\n' + '    print(' + calling_cell + ')'\n",
    "        f.write(boilerplate)\n",
    "        f.close()\n",
    "        \n",
    "        # step 3: ssh to remote\n",
    "        hostname = '3.94.21.39'\n",
    "        username=\"ubuntu\"\n",
    "        key_filename=\"test.pem\"\n",
    "        # connect to remote https://blog.ruanbekker.com/blog/2018/04/23/using-paramiko-module-in-python-to-execute-remote-bash-commands/\n",
    "        ssh = paramiko.SSHClient()\n",
    "        ssh.set_missing_host_key_policy(paramiko.AutoAddPolicy())\n",
    "        ssh.connect(hostname=hostname, username=username, key_filename=key_filename)\n",
    "        \n",
    "        # step 4: upload code\n",
    "        ftp_client=ssh.open_sftp()  # https://medium.com/@keagileageek/paramiko-how-to-ssh-and-file-transfers-with-python-75766179de73\n",
    "        ftp_client.put(\"source_code.py\", \"source_code.py\")\n",
    "        ftp_client.close()\n",
    "        \n",
    "        # step 5: execute code\n",
    "        stdin, stdout, stderr = ssh.exec_command(\"python3 source_code.py\")\n",
    "        \n",
    "        # step 6: print results\n",
    "        for line in stdout.read().splitlines():\n",
    "            print(line)\n",
    "            \n",
    "        # step 7: remove results\n",
    "        os.remove(\"source_code.py\")\n",
    "\n",
    "    return modfied_func"
   ]
  },
  {
   "cell_type": "code",
   "execution_count": 21,
   "metadata": {},
   "outputs": [],
   "source": [
    "import os\n",
    "\n",
    "def neat():\n",
    "    res = 0\n",
    "    for i in range(3):\n",
    "        res += i\n",
    "    return res"
   ]
  },
  {
   "cell_type": "code",
   "execution_count": 22,
   "metadata": {},
   "outputs": [],
   "source": [
    "@kicker\n",
    "def bar():\n",
    "    return neat()"
   ]
  },
  {
   "cell_type": "code",
   "execution_count": 23,
   "metadata": {},
   "outputs": [
    {
     "name": "stdout",
     "output_type": "stream",
     "text": [
      "bar()\n",
      "b'3'\n"
     ]
    }
   ],
   "source": [
    "bar()"
   ]
  },
  {
   "cell_type": "code",
   "execution_count": null,
   "metadata": {},
   "outputs": [],
   "source": []
  }
 ],
 "metadata": {
  "kernelspec": {
   "display_name": "Python 3",
   "language": "python",
   "name": "python3"
  },
  "language_info": {
   "codemirror_mode": {
    "name": "ipython",
    "version": 3
   },
   "file_extension": ".py",
   "mimetype": "text/x-python",
   "name": "python",
   "nbconvert_exporter": "python",
   "pygments_lexer": "ipython3",
   "version": "3.7.3"
  }
 },
 "nbformat": 4,
 "nbformat_minor": 2
}
