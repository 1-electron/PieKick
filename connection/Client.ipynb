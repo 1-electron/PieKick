{
 "cells": [
  {
   "cell_type": "code",
   "execution_count": 66,
   "metadata": {},
   "outputs": [],
   "source": [
    "import socket\n",
    "import numpy as np\n",
    "import jsonpickle\n",
    "\n",
    "def from_bytes(b):\n",
    "    \"\"\"convert bytes back to python object.\n",
    "    \"\"\"\n",
    "    j = b.decode('UTF-8')  # from bytes to json\n",
    "    o = jsonpickle.decode(j)  # from json to python object\n",
    "    return o\n",
    "\n",
    "def up(port, fname):\n",
    "    \"\"\"send fname to server and retrieve corresponding results.\n",
    "    \n",
    "    # https://stackoverflow.com/questions/9382045/send-a-file-through-sockets-in-python\n",
    "    \"\"\"\n",
    "    # create socket and connect\n",
    "    s = socket.socket(socket.AF_INET, socket.SOCK_STREAM)\n",
    "    s.connect(('3.223.135.38', port)) \n",
    "\n",
    "    # send source to server\n",
    "    with open(fname, \"rb\") as f:\n",
    "        l = f.read(1024)\n",
    "    s.send(l) \n",
    "        \n",
    "    # receive results from server and unpack bytes to numpy\n",
    "    res = s.recv(1024)\n",
    "    # o = from_bytes(res)  # https://markhneedham.com/blog/2018/04/07/python-serialize-deserialize-numpy-2d-arrays/\n",
    "    o = np.frombuffer(res)\n",
    "    print(o)\n",
    "    \n",
    "    # close the connection \n",
    "    if res:\n",
    "        s.close()\n",
    "        return o\n",
    "    else:\n",
    "        raise ValueError"
   ]
  },
  {
   "cell_type": "code",
   "execution_count": 67,
   "metadata": {},
   "outputs": [
    {
     "name": "stdout",
     "output_type": "stream",
     "text": [
      "[155.06544968  46.08808544  57.53861278  81.05801111  83.86452437\n",
      "  34.54875178  42.76855209  40.49708814 169.43477032  47.83770597\n",
      " 104.63699717  68.47183244 156.61486734  27.77167593  73.21950856\n",
      "  69.52396851]\n"
     ]
    },
    {
     "data": {
      "text/plain": [
       "array([155.06544968,  46.08808544,  57.53861278,  81.05801111,\n",
       "        83.86452437,  34.54875178,  42.76855209,  40.49708814,\n",
       "       169.43477032,  47.83770597, 104.63699717,  68.47183244,\n",
       "       156.61486734,  27.77167593,  73.21950856,  69.52396851])"
      ]
     },
     "execution_count": 67,
     "metadata": {},
     "output_type": "execute_result"
    }
   ],
   "source": [
    "up(4001, \"foobar.py\")"
   ]
  },
  {
   "cell_type": "code",
   "execution_count": null,
   "metadata": {},
   "outputs": [],
   "source": []
  }
 ],
 "metadata": {
  "kernelspec": {
   "display_name": "Python 3",
   "language": "python",
   "name": "python3"
  },
  "language_info": {
   "codemirror_mode": {
    "name": "ipython",
    "version": 3
   },
   "file_extension": ".py",
   "mimetype": "text/x-python",
   "name": "python",
   "nbconvert_exporter": "python",
   "pygments_lexer": "ipython3",
   "version": "3.7.6"
  }
 },
 "nbformat": 4,
 "nbformat_minor": 4
}
