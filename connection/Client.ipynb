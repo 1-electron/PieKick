{
 "cells": [
  {
   "cell_type": "code",
   "execution_count": 9,
   "metadata": {},
   "outputs": [],
   "source": [
    "import socket\n",
    "import numpy as np\n",
    "import jsonpickle\n",
    "\n",
    "def from_bytes(b):\n",
    "    \"\"\"convert bytes back to python object.\n",
    "    \"\"\"\n",
    "    j = b.decode('UTF-8')  # from bytes to json\n",
    "    o = jsonpickle.decode(j)  # from json to python object\n",
    "    return o\n",
    "\n",
    "def up(port, fname):\n",
    "    \"\"\"send fname to server and retrieve corresponding results.\n",
    "    \n",
    "    # https://stackoverflow.com/questions/9382045/send-a-file-through-sockets-in-python\n",
    "    \"\"\"\n",
    "    # create socket and connect\n",
    "    s = socket.socket(socket.AF_INET, socket.SOCK_STREAM)\n",
    "    s.connect(('3.236.152.182', port)) \n",
    "\n",
    "    # send source to server\n",
    "    with open(fname, \"rb\") as f:\n",
    "        l = f.read(1024)\n",
    "    s.send(l) \n",
    "        \n",
    "    # receive results from server and unpack bytes to numpy\n",
    "    res = s.recv(1024)\n",
    "    o = from_bytes(res)  # https://markhneedham.com/blog/2018/04/07/python-serialize-deserialize-numpy-2d-arrays/\n",
    "    # o = np.frombuffer(res)\n",
    "    print(o)\n",
    "    \n",
    "    # close the connection \n",
    "    if res:\n",
    "        s.close()\n",
    "        return o\n",
    "    else:\n",
    "        raise ValueError"
   ]
  },
  {
   "cell_type": "code",
   "execution_count": 11,
   "metadata": {},
   "outputs": [
    {
     "name": "stdout",
     "output_type": "stream",
     "text": [
      "[[1.1607805  1.72548163 0.41491881 1.92575164]\n",
      " [1.32565961 1.64162547 0.74098217 2.03195966]\n",
      " [0.56812238 1.13913728 0.43107429 1.23335938]\n",
      " [0.75077297 1.61910368 0.62200392 1.74323728]]\n"
     ]
    },
    {
     "data": {
      "text/plain": [
       "array([[1.1607805 , 1.72548163, 0.41491881, 1.92575164],\n",
       "       [1.32565961, 1.64162547, 0.74098217, 2.03195966],\n",
       "       [0.56812238, 1.13913728, 0.43107429, 1.23335938],\n",
       "       [0.75077297, 1.61910368, 0.62200392, 1.74323728]])"
      ]
     },
     "execution_count": 11,
     "metadata": {},
     "output_type": "execute_result"
    }
   ],
   "source": [
    "up(port=1111, fname=\"foobar.py\")  # port should match server port"
   ]
  },
  {
   "cell_type": "code",
   "execution_count": null,
   "metadata": {},
   "outputs": [],
   "source": []
  }
 ],
 "metadata": {
  "kernelspec": {
   "display_name": "Python 3",
   "language": "python",
   "name": "python3"
  },
  "language_info": {
   "codemirror_mode": {
    "name": "ipython",
    "version": 3
   },
   "file_extension": ".py",
   "mimetype": "text/x-python",
   "name": "python",
   "nbconvert_exporter": "python",
   "pygments_lexer": "ipython3",
   "version": "3.7.7"
  }
 },
 "nbformat": 4,
 "nbformat_minor": 4
}
