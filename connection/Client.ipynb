{
 "cells": [
  {
   "cell_type": "code",
   "execution_count": 1,
   "metadata": {},
   "outputs": [],
   "source": [
    "import socket\n",
    "import numpy as np\n",
    "import jsonpickle\n",
    "\n",
    "def from_bytes(b):\n",
    "    \"\"\"convert bytes back to python object.\n",
    "    \"\"\"\n",
    "    j = b.decode('UTF-8')  # from bytes to json\n",
    "    o = jsonpickle.decode(j)  # from json to python object\n",
    "    return o\n",
    "\n",
    "def up(port, fname):\n",
    "    \"\"\"send fname to server and retrieve corresponding results.\n",
    "    \n",
    "    # https://stackoverflow.com/questions/9382045/send-a-file-through-sockets-in-python\n",
    "    \"\"\"\n",
    "    # create socket and connect\n",
    "    s = socket.socket(socket.AF_INET, socket.SOCK_STREAM)\n",
    "    s.connect(('3.236.152.182', port)) \n",
    "\n",
    "    # send source to server\n",
    "    with open(fname, \"rb\") as f:\n",
    "        l = f.read(1024)\n",
    "    s.send(l) \n",
    "        \n",
    "    # receive results from server and unpack bytes to numpy\n",
    "    res = s.recv(1024)\n",
    "    o = from_bytes(res)  # https://markhneedham.com/blog/2018/04/07/python-serialize-deserialize-numpy-2d-arrays/\n",
    "    # o = np.frombuffer(res)\n",
    "    print(o)\n",
    "    \n",
    "    # close the connection \n",
    "    if res:\n",
    "        s.close()\n",
    "        return o\n",
    "    else:\n",
    "        raise ValueError"
   ]
  },
  {
   "cell_type": "code",
   "execution_count": 2,
   "metadata": {},
   "outputs": [
    {
     "name": "stdout",
     "output_type": "stream",
     "text": [
      "[[1.1265366  0.89255023 0.650524   0.62098519]\n",
      " [0.66799725 0.63130461 0.40494075 0.42892255]\n",
      " [1.09759406 0.77707    0.81158675 0.76770551]\n",
      " [1.62245357 1.40025039 0.95896779 1.15035   ]]\n"
     ]
    }
   ],
   "source": [
    "a = up(port=1111, fname=\"foobar.py\")  # port should match server port"
   ]
  },
  {
   "cell_type": "code",
   "execution_count": 3,
   "metadata": {},
   "outputs": [
    {
     "data": {
      "text/plain": [
       "array([[1.1265366 , 0.89255023, 0.650524  , 0.62098519],\n",
       "       [0.66799725, 0.63130461, 0.40494075, 0.42892255],\n",
       "       [1.09759406, 0.77707   , 0.81158675, 0.76770551],\n",
       "       [1.62245357, 1.40025039, 0.95896779, 1.15035   ]])"
      ]
     },
     "execution_count": 3,
     "metadata": {},
     "output_type": "execute_result"
    }
   ],
   "source": [
    "a"
   ]
  },
  {
   "cell_type": "code",
   "execution_count": 7,
   "metadata": {},
   "outputs": [
    {
     "data": {
      "text/plain": [
       "array([[3.37960979, 2.6776507 , 1.951572  , 1.86295557],\n",
       "       [2.00399176, 1.89391383, 1.21482225, 1.28676765],\n",
       "       [3.29278218, 2.33121001, 2.43476024, 2.30311652],\n",
       "       [4.8673607 , 4.20075118, 2.87690338, 3.45105001]])"
      ]
     },
     "execution_count": 7,
     "metadata": {},
     "output_type": "execute_result"
    }
   ],
   "source": [
    "a * 3"
   ]
  },
  {
   "cell_type": "code",
   "execution_count": 4,
   "metadata": {},
   "outputs": [
    {
     "data": {
      "text/plain": [
       "array([[2.25307319, 1.78510047, 1.301048  , 1.24197038],\n",
       "       [1.3359945 , 1.26260922, 0.8098815 , 0.8578451 ],\n",
       "       [2.19518812, 1.55414   , 1.62317349, 1.53541101],\n",
       "       [3.24490713, 2.80050078, 1.91793559, 2.30070001]])"
      ]
     },
     "execution_count": 4,
     "metadata": {},
     "output_type": "execute_result"
    }
   ],
   "source": [
    "a * 2"
   ]
  },
  {
   "cell_type": "code",
   "execution_count": 8,
   "metadata": {},
   "outputs": [
    {
     "data": {
      "text/plain": [
       "['',\n",
       " 'import socket\\nimport numpy as np\\nimport jsonpickle\\n\\ndef from_bytes(b):\\n    \"\"\"convert bytes back to python object.\\n    \"\"\"\\n    j = b.decode(\\'UTF-8\\')  # from bytes to json\\n    o = jsonpickle.decode(j)  # from json to python object\\n    return o\\n\\ndef up(port, fname):\\n    \"\"\"send fname to server and retrieve corresponding results.\\n    \\n    # https://stackoverflow.com/questions/9382045/send-a-file-through-sockets-in-python\\n    \"\"\"\\n    # create socket and connect\\n    s = socket.socket(socket.AF_INET, socket.SOCK_STREAM)\\n    s.connect((\\'3.236.152.182\\', port)) \\n\\n    # send source to server\\n    with open(fname, \"rb\") as f:\\n        l = f.read(1024)\\n    s.send(l) \\n        \\n    # receive results from server and unpack bytes to numpy\\n    res = s.recv(1024)\\n    o = from_bytes(res)  # https://markhneedham.com/blog/2018/04/07/python-serialize-deserialize-numpy-2d-arrays/\\n    # o = np.frombuffer(res)\\n    print(o)\\n    \\n    # close the connection \\n    if res:\\n        s.close()\\n        return o\\n    else:\\n        raise ValueError',\n",
       " 'a = up(port=1111, fname=\"foobar.py\")  # port should match server port',\n",
       " 'a',\n",
       " 'a * 2',\n",
       " 'globals()',\n",
       " 'globals()[\"In\"]',\n",
       " 'a * 3',\n",
       " 'globals()[\"In\"]']"
      ]
     },
     "execution_count": 8,
     "metadata": {},
     "output_type": "execute_result"
    }
   ],
   "source": [
    "globals()[\"In\"]"
   ]
  },
  {
   "cell_type": "code",
   "execution_count": 10,
   "metadata": {},
   "outputs": [
    {
     "data": {
      "text/plain": [
       "array([[1.1265366 , 0.89255023, 0.650524  , 0.62098519],\n",
       "       [0.66799725, 0.63130461, 0.40494075, 0.42892255],\n",
       "       [1.09759406, 0.77707   , 0.81158675, 0.76770551],\n",
       "       [1.62245357, 1.40025039, 0.95896779, 1.15035   ]])"
      ]
     },
     "execution_count": 10,
     "metadata": {},
     "output_type": "execute_result"
    }
   ],
   "source": [
    "locals()['a']"
   ]
  },
  {
   "cell_type": "code",
   "execution_count": 11,
   "metadata": {},
   "outputs": [
    {
     "data": {
      "text/plain": [
       "array([[1.1265366 , 0.89255023, 0.650524  , 0.62098519],\n",
       "       [0.66799725, 0.63130461, 0.40494075, 0.42892255],\n",
       "       [1.09759406, 0.77707   , 0.81158675, 0.76770551],\n",
       "       [1.62245357, 1.40025039, 0.95896779, 1.15035   ]])"
      ]
     },
     "execution_count": 11,
     "metadata": {},
     "output_type": "execute_result"
    }
   ],
   "source": [
    "globals()['a']"
   ]
  },
  {
   "cell_type": "code",
   "execution_count": null,
   "metadata": {},
   "outputs": [],
   "source": []
  }
 ],
 "metadata": {
  "kernelspec": {
   "display_name": "Python 3",
   "language": "python",
   "name": "python3"
  },
  "language_info": {
   "codemirror_mode": {
    "name": "ipython",
    "version": 3
   },
   "file_extension": ".py",
   "mimetype": "text/x-python",
   "name": "python",
   "nbconvert_exporter": "python",
   "pygments_lexer": "ipython3",
   "version": "3.7.7"
  }
 },
 "nbformat": 4,
 "nbformat_minor": 4
}
