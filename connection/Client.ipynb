{
 "cells": [
  {
   "cell_type": "code",
   "execution_count": 9,
   "metadata": {},
   "outputs": [],
   "source": [
    "import socket\n",
    "import numpy as np\n",
    "import jsonpickle\n",
    "\n",
    "def from_bytes(b):\n",
    "    \"\"\"convert bytes back to python object.\n",
    "    \"\"\"\n",
    "    j = b.decode()  # from bytes to json\n",
    "    o = jsonpickle.decode(j)  # from json to python object\n",
    "    return o\n",
    "\n",
    "def up(port, fname):\n",
    "    \"\"\"send fname to server and retrieve corresponding results.\n",
    "    \n",
    "    # https://stackoverflow.com/questions/9382045/send-a-file-through-sockets-in-python\n",
    "    \"\"\"\n",
    "    # create socket and connect\n",
    "    s = socket.socket(socket.AF_INET, socket.SOCK_STREAM)\n",
    "    s.connect(('localhost', port)) \n",
    "\n",
    "    # send source to server\n",
    "    with open(fname, \"rb\") as f:\n",
    "        l = f.read(1024)\n",
    "    s.send(l) \n",
    "        \n",
    "    # receive results from server and unpack bytes to numpy\n",
    "    res = s.recv(1024)\n",
    "    o = from_bytes(res)  # https://markhneedham.com/blog/2018/04/07/python-serialize-deserialize-numpy-2d-arrays/\n",
    "    print(o)\n",
    "    \n",
    "    # close the connection \n",
    "    if res:\n",
    "        s.close()\n",
    "        return o\n",
    "    else:\n",
    "        raise ValueError"
   ]
  },
  {
   "cell_type": "code",
   "execution_count": 11,
   "metadata": {},
   "outputs": [
    {
     "name": "stdout",
     "output_type": "stream",
     "text": [
      "[[ 93.58376672  19.96360773  78.18941     60.60797077]\n",
      " [122.86759221  90.39791146 117.84743214  68.01817012]\n",
      " [146.97214129  89.02200835 102.95620591  95.38213342]\n",
      " [111.65000672  53.9488396  101.27108878  62.70355913]]\n"
     ]
    },
    {
     "data": {
      "text/plain": [
       "array([[ 93.58376672,  19.96360773,  78.18941   ,  60.60797077],\n",
       "       [122.86759221,  90.39791146, 117.84743214,  68.01817012],\n",
       "       [146.97214129,  89.02200835, 102.95620591,  95.38213342],\n",
       "       [111.65000672,  53.9488396 , 101.27108878,  62.70355913]])"
      ]
     },
     "execution_count": 11,
     "metadata": {},
     "output_type": "execute_result"
    }
   ],
   "source": [
    "up(4002, \"foobar.py\")"
   ]
  },
  {
   "cell_type": "code",
   "execution_count": null,
   "metadata": {},
   "outputs": [],
   "source": []
  }
 ],
 "metadata": {
  "kernelspec": {
   "display_name": "Python 3",
   "language": "python",
   "name": "python3"
  },
  "language_info": {
   "codemirror_mode": {
    "name": "ipython",
    "version": 3
   },
   "file_extension": ".py",
   "mimetype": "text/x-python",
   "name": "python",
   "nbconvert_exporter": "python",
   "pygments_lexer": "ipython3",
   "version": "3.7.6"
  }
 },
 "nbformat": 4,
 "nbformat_minor": 4
}
