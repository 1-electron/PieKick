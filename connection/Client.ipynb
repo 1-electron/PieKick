{
 "cells": [
  {
   "cell_type": "code",
   "execution_count": 4,
   "metadata": {},
   "outputs": [],
   "source": [
    "import socket\n",
    "import numpy as np\n",
    "\n",
    "def up(port, fname):\n",
    "    \"\"\"send fname to server and retrieve corresponding results.\n",
    "    \n",
    "    # https://stackoverflow.com/questions/9382045/send-a-file-through-sockets-in-python\n",
    "    \"\"\"\n",
    "    # create socket and connect\n",
    "    s = socket.socket(socket.AF_INET, socket.SOCK_STREAM)\n",
    "    s.connect(('localhost', port)) \n",
    "\n",
    "    # send source to server\n",
    "    with open(fname, \"rb\") as f:\n",
    "        l = f.read(1024)\n",
    "    s.send(l) \n",
    "        \n",
    "    # receive results from server and unpack bytes to numpy\n",
    "    res = s.recv(1024)\n",
    "    res_unpacked = np.frombuffer(res)  # https://markhneedham.com/blog/2018/04/07/python-serialize-deserialize-numpy-2d-arrays/\n",
    "    \n",
    "    # close the connection \n",
    "    if res:\n",
    "        s.close()\n",
    "        return res_unpacked\n",
    "    else:\n",
    "        raise ValueError"
   ]
  },
  {
   "cell_type": "code",
   "execution_count": 5,
   "metadata": {},
   "outputs": [
    {
     "data": {
      "text/plain": [
       "array([105.19470208, 172.7371957 , 126.80813077,  43.10047837,\n",
       "        64.07048626,  94.38427524,  76.80208438,  35.05028659,\n",
       "       123.47418386, 155.6141019 , 113.98478516,  29.11243998,\n",
       "        64.82936737, 104.9740756 ,  81.25919948,  29.50712386])"
      ]
     },
     "execution_count": 5,
     "metadata": {},
     "output_type": "execute_result"
    }
   ],
   "source": [
    "up(3001, \"foobar.py\")"
   ]
  },
  {
   "cell_type": "code",
   "execution_count": null,
   "metadata": {},
   "outputs": [],
   "source": []
  }
 ],
 "metadata": {
  "kernelspec": {
   "display_name": "Python 3",
   "language": "python",
   "name": "python3"
  },
  "language_info": {
   "codemirror_mode": {
    "name": "ipython",
    "version": 3
   },
   "file_extension": ".py",
   "mimetype": "text/x-python",
   "name": "python",
   "nbconvert_exporter": "python",
   "pygments_lexer": "ipython3",
   "version": "3.7.6"
  }
 },
 "nbformat": 4,
 "nbformat_minor": 4
}
