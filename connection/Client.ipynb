{
 "cells": [
  {
   "cell_type": "code",
   "execution_count": 3,
   "metadata": {},
   "outputs": [],
   "source": [
    "import socket\n",
    "import numpy as np\n",
    "import jsonpickle\n",
    "\n",
    "def from_bytes(b):\n",
    "    \"\"\"convert bytes back to python object.\n",
    "    \"\"\"\n",
    "    j = b.decode('UTF-8')  # from bytes to json\n",
    "    o = jsonpickle.decode(j)  # from json to python object\n",
    "    return o\n",
    "\n",
    "def up(port, fname):\n",
    "    \"\"\"send fname to server and retrieve corresponding results.\n",
    "    \n",
    "    # https://stackoverflow.com/questions/9382045/send-a-file-through-sockets-in-python\n",
    "    \"\"\"\n",
    "    # create socket and connect\n",
    "    s = socket.socket(socket.AF_INET, socket.SOCK_STREAM)\n",
    "    s.connect(('3.236.152.182', port)) \n",
    "\n",
    "    # send source to server\n",
    "    with open(fname, \"rb\") as f:\n",
    "        l = f.read(1024)\n",
    "    s.send(l) \n",
    "        \n",
    "    # receive results from server and unpack bytes to numpy\n",
    "    res = s.recv(1024)\n",
    "    o = from_bytes(res)  # https://markhneedham.com/blog/2018/04/07/python-serialize-deserialize-numpy-2d-arrays/\n",
    "    # o = np.frombuffer(res)\n",
    "    print(o)\n",
    "    \n",
    "    # close the connection \n",
    "    if res:\n",
    "        s.close()\n",
    "        return o\n",
    "    else:\n",
    "        raise ValueError"
   ]
  },
  {
   "cell_type": "code",
   "execution_count": 4,
   "metadata": {},
   "outputs": [
    {
     "name": "stdout",
     "output_type": "stream",
     "text": [
      "[[1.95220124 2.25474372 2.31782812 1.27065894]\n",
      " [1.43875174 1.53152338 1.54475967 0.83070755]\n",
      " [1.2310306  1.3923315  1.40934274 0.79931545]\n",
      " [1.52196836 1.67479069 1.68661692 0.99452482]]\n"
     ]
    }
   ],
   "source": [
    "a = up(port=1111, fname=\"foobar.py\")  # port should match server port"
   ]
  },
  {
   "cell_type": "code",
   "execution_count": 6,
   "metadata": {},
   "outputs": [
    {
     "data": {
      "text/plain": [
       "array([[1.95220124, 2.25474372, 2.31782812, 1.27065894],\n",
       "       [1.43875174, 1.53152338, 1.54475967, 0.83070755],\n",
       "       [1.2310306 , 1.3923315 , 1.40934274, 0.79931545],\n",
       "       [1.52196836, 1.67479069, 1.68661692, 0.99452482]])"
      ]
     },
     "execution_count": 6,
     "metadata": {},
     "output_type": "execute_result"
    }
   ],
   "source": [
    "a"
   ]
  },
  {
   "cell_type": "code",
   "execution_count": null,
   "metadata": {},
   "outputs": [],
   "source": []
  }
 ],
 "metadata": {
  "kernelspec": {
   "display_name": "Python 3",
   "language": "python",
   "name": "python3"
  },
  "language_info": {
   "codemirror_mode": {
    "name": "ipython",
    "version": 3
   },
   "file_extension": ".py",
   "mimetype": "text/x-python",
   "name": "python",
   "nbconvert_exporter": "python",
   "pygments_lexer": "ipython3",
   "version": "3.7.7"
  }
 },
 "nbformat": 4,
 "nbformat_minor": 4
}
