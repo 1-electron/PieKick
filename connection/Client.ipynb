{
 "cells": [
  {
   "cell_type": "code",
   "execution_count": 1,
   "metadata": {},
   "outputs": [],
   "source": [
    "import socket\n",
    "import numpy as np\n",
    "\n",
    "def up(port, fname):\n",
    "    \"\"\"send fname to server and retrieve corresponding results.\n",
    "    \n",
    "    # https://stackoverflow.com/questions/9382045/send-a-file-through-sockets-in-python\n",
    "    \"\"\"\n",
    "    # create socket and connect\n",
    "    s = socket.socket(socket.AF_INET, socket.SOCK_STREAM)\n",
    "    s.connect(('3.224.147.184', port)) \n",
    "\n",
    "    # send source to server\n",
    "    with open(fname, \"rb\") as f:\n",
    "        l = f.read(1024)\n",
    "    s.send(l) \n",
    "        \n",
    "    # receive results from server and unpack bytes to numpy\n",
    "    res = s.recv(1024)\n",
    "    res_unpacked = np.frombuffer(res)  # https://markhneedham.com/blog/2018/04/07/python-serialize-deserialize-numpy-2d-arrays/\n",
    "    \n",
    "    # close the connection \n",
    "    if res:\n",
    "        s.close()\n",
    "        return res_unpacked\n",
    "    else:\n",
    "        raise ValueError"
   ]
  },
  {
   "cell_type": "code",
   "execution_count": 2,
   "metadata": {},
   "outputs": [
    {
     "data": {
      "text/plain": [
       "array([ 25.2418804 ,  90.4831462 ,  45.84663348,  37.02220583,\n",
       "        73.73140379,  36.5529802 , 131.94516792,  76.17174674,\n",
       "        35.35214419, 103.5844002 ,  98.32894616,  86.35272669,\n",
       "        31.69983388,  49.8393956 , 113.13943476,  70.18013134])"
      ]
     },
     "execution_count": 2,
     "metadata": {},
     "output_type": "execute_result"
    }
   ],
   "source": [
    "up(4001, \"foobar.py\")"
   ]
  },
  {
   "cell_type": "code",
   "execution_count": null,
   "metadata": {},
   "outputs": [],
   "source": []
  }
 ],
 "metadata": {
  "kernelspec": {
   "display_name": "Python 3",
   "language": "python",
   "name": "python3"
  },
  "language_info": {
   "codemirror_mode": {
    "name": "ipython",
    "version": 3
   },
   "file_extension": ".py",
   "mimetype": "text/x-python",
   "name": "python",
   "nbconvert_exporter": "python",
   "pygments_lexer": "ipython3",
   "version": "3.7.6"
  }
 },
 "nbformat": 4,
 "nbformat_minor": 4
}
