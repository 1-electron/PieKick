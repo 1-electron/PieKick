{
 "cells": [
  {
   "cell_type": "code",
   "execution_count": 15,
   "metadata": {},
   "outputs": [],
   "source": [
    "import sys\n",
    "import subprocess\n",
    "\n",
    "def execute(fname):\n",
    "    # https://www.semicolonworld.com/question/59697/return-value-from-one-python-script-to-another\n",
    "    s2_out = subprocess.check_output([sys.executable, fname])\n",
    "    return s2_out\n",
    "\n",
    "def receive(out_fname):\n",
    "    # # https://www.geeksforgeeks.org/socket-programming-python/\n",
    "    # data = c.recv(1024).decode('utf-8')\n",
    "    l = c.recv(1024)\n",
    "    f = open(\"barfoo.py\",'wb')\n",
    "    f.write(l)\n",
    "    f.close()\n",
    "    return True\n",
    "    "
   ]
  },
  {
   "cell_type": "code",
   "execution_count": null,
   "metadata": {},
   "outputs": [
    {
     "name": "stdout",
     "output_type": "stream",
     "text": [
      "Got connection from ('127.0.0.1', 49824)\n"
     ]
    }
   ],
   "source": [
    "import socket\n",
    "\n",
    "# https://www.geeksforgeeks.org/socket-programming-python/\n",
    "\n",
    "s = socket.socket(socket.AF_INET, socket.SOCK_STREAM)\n",
    "endpoint = (\"localhost\", 7725)\n",
    "s.bind(endpoint)\n",
    "s.listen(5)\n",
    "while True:\n",
    "    # Establish connection with client. \n",
    "    c, addr = s.accept()      \n",
    "    print('Got connection from', addr )\n",
    "    \n",
    "    # client sends something to server\n",
    "    _ = receive(\"barfoo.py\")\n",
    "    \n",
    "    # eval code\n",
    "    res = execute(\"barfoo.py\")\n",
    "    \n",
    "    # return result to client\n",
    "    c.send(res) \n",
    "    \n",
    "    # Close the connection with the client \n",
    "    c.close() "
   ]
  },
  {
   "cell_type": "code",
   "execution_count": null,
   "metadata": {},
   "outputs": [],
   "source": []
  }
 ],
 "metadata": {
  "kernelspec": {
   "display_name": "Python 3",
   "language": "python",
   "name": "python3"
  },
  "language_info": {
   "codemirror_mode": {
    "name": "ipython",
    "version": 3
   },
   "file_extension": ".py",
   "mimetype": "text/x-python",
   "name": "python",
   "nbconvert_exporter": "python",
   "pygments_lexer": "ipython3",
   "version": "3.7.6"
  }
 },
 "nbformat": 4,
 "nbformat_minor": 2
}
