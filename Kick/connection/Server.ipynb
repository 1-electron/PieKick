{
 "cells": [
  {
   "cell_type": "code",
   "execution_count": null,
   "metadata": {},
   "outputs": [
    {
     "name": "stdout",
     "output_type": "stream",
     "text": [
      "Got connection from ('127.0.0.1', 56819)\n",
      "1+2\n",
      "Got connection from ('127.0.0.1', 56820)\n",
      "1+3\n"
     ]
    }
   ],
   "source": [
    "# https://www.geeksforgeeks.org/socket-programming-python/\n",
    "\n",
    "s = socket.socket(socket.AF_INET, socket.SOCK_STREAM)\n",
    "endpoint = (\"localhost\", 7775)\n",
    "s.bind(endpoint)\n",
    "s.listen(5)\n",
    "while True:\n",
    "    # Establish connection with client. \n",
    "    c, addr = s.accept()      \n",
    "    print('Got connection from', addr )\n",
    "    \n",
    "    # client will send something to server\n",
    "    data = c.recv(1024).decode('utf-8')\n",
    "    \n",
    "    # func\n",
    "    print(\"eval\", data)\n",
    "    res = str(eval(data))\n",
    "    res = res.encode('utf-8')    \n",
    "    \n",
    "    # return result to client\n",
    "    c.send(res) \n",
    "    \n",
    "    # Close the connection with the client \n",
    "    c.close() "
   ]
  },
  {
   "cell_type": "code",
   "execution_count": null,
   "metadata": {},
   "outputs": [],
   "source": []
  }
 ],
 "metadata": {
  "kernelspec": {
   "display_name": "Python 3",
   "language": "python",
   "name": "python3"
  },
  "language_info": {
   "codemirror_mode": {
    "name": "ipython",
    "version": 3
   },
   "file_extension": ".py",
   "mimetype": "text/x-python",
   "name": "python",
   "nbconvert_exporter": "python",
   "pygments_lexer": "ipython3",
   "version": "3.7.6"
  }
 },
 "nbformat": 4,
 "nbformat_minor": 2
}
