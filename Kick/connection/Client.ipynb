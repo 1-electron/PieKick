{
 "cells": [
  {
   "cell_type": "code",
   "execution_count": 5,
   "metadata": {},
   "outputs": [
    {
     "name": "stdout",
     "output_type": "stream",
     "text": [
      "b'[[0.66963945 0.67589924 0.61249256 0.8899538 ]\\n [0.96350534 1.14171589 1.2970117  1.06321923]\\n [0.98592392 0.55130828 1.124948   0.7652642 ]\\n [1.3580122  1.05498008 1.46622579 1.32424397]]\\n'\n"
     ]
    }
   ],
   "source": [
    "# https://stackoverflow.com/questions/9382045/send-a-file-through-sockets-in-python\n",
    "\n",
    "import socket\n",
    "\n",
    "# create socket\n",
    "s = socket.socket(socket.AF_INET, socket.SOCK_STREAM)\n",
    "\n",
    "# connect to the server on local computer \n",
    "port = 7723\n",
    "s.connect(('localhost', port)) \n",
    "\n",
    "# send source to server\n",
    "fname = \"foobar.py\"\n",
    "f = open(fname, \"rb\")\n",
    "l = f.read(1024)\n",
    "s.send(l) \n",
    "\n",
    "# receive results from remote execution\n",
    "res = s.recv(1024)\n",
    "print(res)\n",
    "\n",
    "# close the connection \n",
    "if res:\n",
    "    s.close()\n",
    "    f.close()\n",
    "else:\n",
    "    raise ValueError"
   ]
  },
  {
   "cell_type": "code",
   "execution_count": null,
   "metadata": {},
   "outputs": [],
   "source": []
  }
 ],
 "metadata": {
  "kernelspec": {
   "display_name": "Python 3",
   "language": "python",
   "name": "python3"
  },
  "language_info": {
   "codemirror_mode": {
    "name": "ipython",
    "version": 3
   },
   "file_extension": ".py",
   "mimetype": "text/x-python",
   "name": "python",
   "nbconvert_exporter": "python",
   "pygments_lexer": "ipython3",
   "version": "3.7.6"
  }
 },
 "nbformat": 4,
 "nbformat_minor": 4
}
