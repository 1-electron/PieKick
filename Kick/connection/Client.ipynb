{
 "cells": [
  {
   "cell_type": "code",
   "execution_count": 9,
   "metadata": {},
   "outputs": [
    {
     "name": "stdout",
     "output_type": "stream",
     "text": [
      "[124.16616022 106.92021143 111.29285124 181.69292153  49.6375236\n",
      "  45.17678305  62.16320099  83.63875997 165.14777875  79.57262827\n",
      " 144.39317821 159.31858539  81.43877072  67.16250328  78.7139585\n",
      " 107.13891234]\n"
     ]
    }
   ],
   "source": [
    "# https://stackoverflow.com/questions/9382045/send-a-file-through-sockets-in-python\n",
    "\n",
    "import socket\n",
    "import numpy as np\n",
    "\n",
    "# create socket\n",
    "s = socket.socket(socket.AF_INET, socket.SOCK_STREAM)\n",
    "\n",
    "# connect to the server\n",
    "port = 9510\n",
    "s.connect(('localhost', port)) \n",
    "\n",
    "# send source to server\n",
    "fname = \"foobar.py\"\n",
    "f = open(fname, \"rb\")\n",
    "l = f.read(1024)\n",
    "f.close()\n",
    "s.send(l) \n",
    "\n",
    "# receive results from remote execution and then unpack\n",
    "res = s.recv(1024)\n",
    "res_unpacked = np.frombuffer(res)  # https://markhneedham.com/blog/2018/04/07/python-serialize-deserialize-numpy-2d-arrays/\n",
    "print(res_unpacked)\n",
    "\n",
    "# close the connection \n",
    "if res:\n",
    "    s.close()\n",
    "else:\n",
    "    raise ValueError"
   ]
  },
  {
   "cell_type": "code",
   "execution_count": null,
   "metadata": {},
   "outputs": [],
   "source": []
  }
 ],
 "metadata": {
  "kernelspec": {
   "display_name": "Python 3",
   "language": "python",
   "name": "python3"
  }
 },
 "nbformat": 4,
 "nbformat_minor": 4
}
