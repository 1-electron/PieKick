{
 "cells": [
  {
   "cell_type": "code",
   "execution_count": 7,
   "metadata": {},
   "outputs": [
    {
     "name": "stdout",
     "output_type": "stream",
     "text": [
      "[0.27233615 0.33716065 0.48428995 0.16962644 0.71289317 0.77819062\n",
      " 1.33743205 0.47144339 0.67522699 0.92554519 1.23563686 1.3994105\n",
      " 0.70815518 0.59078671 1.30225482 0.8245738 ]\n"
     ]
    }
   ],
   "source": [
    "# https://stackoverflow.com/questions/9382045/send-a-file-through-sockets-in-python\n",
    "\n",
    "import socket\n",
    "import numpy as np\n",
    "\n",
    "# create socket\n",
    "s = socket.socket(socket.AF_INET, socket.SOCK_STREAM)\n",
    "\n",
    "# connect to the server\n",
    "port = 7003\n",
    "s.connect(('localhost', port)) \n",
    "\n",
    "# send source to server\n",
    "fname = \"foobar.py\"\n",
    "f = open(fname, \"rb\")\n",
    "l = f.read(1024)\n",
    "s.send(l) \n",
    "\n",
    "# receive results from remote execution and then unpack\n",
    "res = s.recv(1024)\n",
    "res_unpacked = np.frombuffer(res)  # https://markhneedham.com/blog/2018/04/07/python-serialize-deserialize-numpy-2d-arrays/\n",
    "print(res_unpacked)\n",
    "\n",
    "# close the connection \n",
    "if res:\n",
    "    s.close()\n",
    "    f.close()\n",
    "else:\n",
    "    raise ValueError"
   ]
  },
  {
   "cell_type": "code",
   "execution_count": null,
   "metadata": {},
   "outputs": [],
   "source": []
  }
 ],
 "metadata": {
  "kernelspec": {
   "display_name": "Python 3",
   "language": "python",
   "name": "python3"
  },
  "language_info": {
   "codemirror_mode": {
    "name": "ipython",
    "version": 3
   },
   "file_extension": ".py",
   "mimetype": "text/x-python",
   "name": "python",
   "nbconvert_exporter": "python",
   "pygments_lexer": "ipython3",
   "version": "3.7.6"
  }
 },
 "nbformat": 4,
 "nbformat_minor": 4
}
