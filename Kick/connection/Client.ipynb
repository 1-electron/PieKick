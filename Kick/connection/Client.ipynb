{
 "cells": [
  {
   "cell_type": "code",
   "execution_count": 70,
   "metadata": {},
   "outputs": [
    {
     "name": "stdout",
     "output_type": "stream",
     "text": [
      "b'success'\n"
     ]
    }
   ],
   "source": [
    "# https://stackoverflow.com/questions/9382045/send-a-file-through-sockets-in-python\n",
    "\n",
    "import socket                \n",
    "  \n",
    "# Create a socket object \n",
    "s = socket.socket(socket.AF_INET, socket.SOCK_STREAM)\n",
    "  \n",
    "# Define the port on which you want to connect \n",
    "port = 7781\n",
    "  \n",
    "# connect to the server on local computer \n",
    "s.connect(('localhost', port)) \n",
    "\n",
    "# send something to server\n",
    "f = open (\"foobar.py\", \"rb\")\n",
    "l = f.read(1024)\n",
    "# data = data.encode('utf-8')\n",
    "s.send(l) \n",
    "    \n",
    "# receive data from the server \n",
    "res = s.recv(1024)\n",
    "print(res)\n",
    "\n",
    "# close the connection \n",
    "s.close()\n",
    "f.close()"
   ]
  },
  {
   "cell_type": "code",
   "execution_count": null,
   "metadata": {},
   "outputs": [],
   "source": []
  }
 ],
 "metadata": {
  "kernelspec": {
   "display_name": "Python 3",
   "language": "python",
   "name": "python3"
  },
  "language_info": {
   "codemirror_mode": {
    "name": "ipython",
    "version": 3
   },
   "file_extension": ".py",
   "mimetype": "text/x-python",
   "name": "python",
   "nbconvert_exporter": "python",
   "pygments_lexer": "ipython3",
   "version": "3.7.6"
  }
 },
 "nbformat": 4,
 "nbformat_minor": 2
}
